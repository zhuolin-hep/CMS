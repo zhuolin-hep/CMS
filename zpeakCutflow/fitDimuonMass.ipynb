{
 "cells": [
  {
   "cell_type": "code",
   "execution_count": 1,
   "metadata": {},
   "outputs": [
    {
     "name": "stdout",
     "output_type": "stream",
     "text": [
      "Welcome to JupyROOT 6.22/02\n"
     ]
    }
   ],
   "source": [
    "import ROOT"
   ]
  },
  {
   "cell_type": "markdown",
   "metadata": {},
   "source": [
    "# Load the histogram"
   ]
  },
  {
   "cell_type": "code",
   "execution_count": 2,
   "metadata": {
    "slideshow": {
     "slide_type": "subslide"
    }
   },
   "outputs": [],
   "source": [
    "f = ROOT.TFile(\"zpeakCutflow_1.root\", \"READ\") # read the cut-flow root file\n",
    "f.cd(\"demo\")\n",
    "h_RecDiMuonM = ROOT.TH1F()\n",
    "h_RecDiMuonM_Scale = ROOT.TH1F()\n",
    "h_RecDiMuonM = f.Get(\"demo/h_RecDiMuonM\")"
   ]
  },
  {
   "cell_type": "markdown",
   "metadata": {},
   "source": [
    "# Scale the histogram"
   ]
  },
  {
   "cell_type": "code",
   "execution_count": 3,
   "metadata": {},
   "outputs": [],
   "source": [
    "scale = 59.74/97195\n",
    "h_RecDiMuonM.Scale(scale) # normalize the histogram to 59.74 /fb"
   ]
  },
  {
   "cell_type": "markdown",
   "metadata": {},
   "source": [
    "# Set Roofit"
   ]
  },
  {
   "cell_type": "code",
   "execution_count": 4,
   "metadata": {},
   "outputs": [
    {
     "name": "stdout",
     "output_type": "stream",
     "text": [
      "\n",
      "\u001b[1mRooFit v3.60 -- Developed by Wouter Verkerke and David Kirkby\u001b[0m \n",
      "                Copyright (C) 2000-2013 NIKHEF, University of California & Stanford University\n",
      "                All rights reserved, please read http://roofit.sourceforge.net/license.txt\n",
      "\n"
     ]
    }
   ],
   "source": [
    "# set RooFit variables\n",
    "x = ROOT.RooRealVar(\"x\",\"m_{#mu^{+}#mu^{-}}\",75,105)\n",
    "m = ROOT.RooRealVar(\"m\",\"m\",91,88,92) # mean\n",
    "s = ROOT.RooRealVar(\"s\",\"s\",3,0,10) # width or standard deviation\n",
    "\n",
    "# for crystal ball function\n",
    "a = ROOT.RooRealVar(\"a\",\"a\",0,5)\n",
    "n = ROOT.RooRealVar(\"n\",\"n\",1,6)\n",
    "\n",
    "# for Voigtian function\n",
    "sv = ROOT.RooRealVar(\"sv\",\"sv\",0,0,2) # sigma in Voigtian\n",
    "\n",
    "# for Bukin function\n",
    "xi = ROOT.RooRealVar(\"xi\",\"peak asymmetry\",-0.3,-1,1)\n",
    "rho1 = ROOT.RooRealVar(\"rho1\",\"left tail\",-0.5,-1,0)\n",
    "rho2 = ROOT.RooRealVar(\"rho2\",\"right tail\",0.4,0,1)\n",
    "\n",
    "# load the histogram\n",
    "ral = ROOT.RooArgList(x) # this line must be added in pyroot\n",
    "h = ROOT.RooDataHist(\"h\",\"Mass of dimuon\",ral,ROOT.RooFit.Import(h_RecDiMuonM))\n",
    "\n",
    "# set fit function \n",
    "#func = ROOT.RooCBShape(\"func\",\"func\",x,m,s,a,n) # crystal ball function\n",
    "#func = ROOT.RooGaussian(\"func\",\"func\",x,m,s)\n",
    "#func = ROOT.RooBreitWigner(\"func\",\"func\",x,m,s)\n",
    "func = ROOT.RooVoigtian(\"func\",\"func\",x,m,s,sv)\n",
    "#func = ROOT.RooBukinPdf(\"func\",\"func\",x,m,s,xi,rho1,rho2)"
   ]
  },
  {
   "cell_type": "markdown",
   "metadata": {},
   "source": [
    "# Fit the histogram"
   ]
  },
  {
   "cell_type": "code",
   "execution_count": 5,
   "metadata": {
    "scrolled": false
   },
   "outputs": [
    {
     "name": "stdout",
     "output_type": "stream",
     "text": [
      "[#0] WARNING:InputArguments -- RooAbsPdf::fitTo(func) WARNING: a likelihood fit is requested of what appears to be weighted data.\n",
      "       While the estimated values of the parameters will always be calculated taking the weights into account,\n",
      "       there are multiple ways to estimate the errors of the parameters. You are advised to make an \n",
      "       explicit choice for the error calculation:\n",
      "           - Either provide SumW2Error(true), to calculate a sum-of-weights-corrected HESSE error matrix\n",
      "             (error will be proportional to the number of events in MC).\n",
      "           - Or provide SumW2Error(false), to return errors from original HESSE error matrix\n",
      "             (which will be proportional to the sum of the weights, i.e., a dataset with <sum of weights> events).\n",
      "           - Or provide AsymptoticError(true), to use the asymptotically correct expression\n",
      "             (for details see https://arxiv.org/abs/1911.01303).\n",
      "[#1] INFO:NumericIntegration -- RooRealIntegral::init(func_Int[x]) using numeric integrator RooIntegrator1D to calculate Int(x)\n",
      "[#1] INFO:Minization -- RooMinimizer::optimizeConst: activating const optimization\n",
      " **********\n",
      " **    1 **SET PRINT           1\n",
      " **********\n",
      " **********\n",
      " **    2 **SET NOGRAD\n",
      " **********\n",
      " PARAMETER DEFINITIONS:\n",
      "    NO.   NAME         VALUE      STEP SIZE      LIMITS\n",
      "     1 m            9.10000e+01  4.00000e-01    8.80000e+01  9.20000e+01\n",
      "     2 s            3.00000e+00  1.00000e+00    0.00000e+00  1.00000e+01\n",
      "     3 sv           0.00000e+00  2.00000e-01    0.00000e+00  2.00000e+00\n",
      " MINUIT WARNING IN PARAM DEF\n",
      " ============== STARTING VALUE IS AT LIMIT.\n",
      " MINUIT WARNING IN PARAMETR\n",
      " ============== VARIABLE3 IS AT ITS LOWER ALLOWED LIMIT.\n",
      " MINUIT WARNING IN PARAMETR\n",
      " ============== VARIABLE3 BROUGHT BACK INSIDE LIMITS.\n",
      " **********\n",
      " **    3 **SET ERR         0.5\n",
      " **********\n",
      " **********\n",
      " **    4 **SET PRINT           1\n",
      " **********\n",
      " **********\n",
      " **    5 **SET STR           1\n",
      " **********\n",
      " NOW USING STRATEGY  1: TRY TO BALANCE SPEED AGAINST RELIABILITY\n",
      " **********\n",
      " **    6 **MIGRAD        1500           1\n",
      " **********\n",
      " FIRST CALL TO USER FUNCTION AT NEW START POINT, WITH IFLAG=4.\n",
      " MINUIT WARNING IN MIGrad    \n",
      " ============== VARIABLE3 IS AT ITS LOWER ALLOWED LIMIT.\n",
      " START MIGRAD MINIMIZATION.  STRATEGY  1.  CONVERGENCE WHEN EDM .LT. 1.00e-03\n",
      " FCN=1408.82 FROM MIGRAD    STATUS=INITIATE       35 CALLS          36 TOTAL\n",
      "                     EDM= unknown      STRATEGY= 1      NO ERROR MATRIX       \n",
      "  EXT PARAMETER               CURRENT GUESS       STEP         FIRST   \n",
      "  NO.   NAME      VALUE            ERROR          SIZE      DERIVATIVE \n",
      "   1  m            9.10000e+01   4.00000e-01   0.00000e+00   1.98589e+01\n",
      "   2  s            3.00000e+00   1.00000e+00   0.00000e+00  -1.76197e+01\n",
      "   3  sv           1.33921e+00   2.00000e-01   1.91492e+00   1.42356e+00\n",
      "                               ERR DEF= 0.5\n",
      " MIGRAD MINIMIZATION HAS CONVERGED.\n",
      " MIGRAD WILL VERIFY CONVERGENCE AND ERROR MATRIX.\n",
      " COVARIANCE MATRIX CALCULATED SUCCESSFULLY\n",
      " FCN=1406.01 FROM MIGRAD    STATUS=CONVERGED      92 CALLS          93 TOTAL\n",
      "                     EDM=1.93589e-05    STRATEGY= 1      ERROR MATRIX ACCURATE \n",
      "  EXT PARAMETER                                   STEP         FIRST   \n",
      "  NO.   NAME      VALUE            ERROR          SIZE      DERIVATIVE \n",
      "   1  m            9.08351e+01   1.27727e-01   1.81089e-03  -5.13590e-02\n",
      "   2  s            3.80539e+00   4.47808e-01   1.45947e-03   4.10372e-02\n",
      "   3  sv           7.60439e-01   4.32234e-01   7.22592e-03   4.14740e-03\n",
      "                               ERR DEF= 0.5\n",
      " EXTERNAL ERROR MATRIX.    NDIM=  25    NPAR=  3    ERR DEF=0.5\n",
      "  1.634e-02  4.160e-03 -7.196e-03 \n",
      "  4.160e-03  2.011e-01 -1.589e-01 \n",
      " -7.196e-03 -1.589e-01  2.007e-01 \n",
      " PARAMETER  CORRELATION COEFFICIENTS  \n",
      "       NO.  GLOBAL      1      2      3\n",
      "        1  0.13309   1.000  0.073 -0.126\n",
      "        2  0.79128   0.073  1.000 -0.791\n",
      "        3  0.79378  -0.126 -0.791  1.000\n",
      " **********\n",
      " **    7 **SET ERR         0.5\n",
      " **********\n",
      " **********\n",
      " **    8 **SET PRINT           1\n",
      " **********\n",
      " **********\n",
      " **    9 **HESSE        1500\n",
      " **********\n",
      " COVARIANCE MATRIX CALCULATED SUCCESSFULLY\n",
      " FCN=1406.01 FROM HESSE     STATUS=OK             16 CALLS         109 TOTAL\n",
      "                     EDM=1.93811e-05    STRATEGY= 1      ERROR MATRIX ACCURATE \n",
      "  EXT PARAMETER                                INTERNAL      INTERNAL  \n",
      "  NO.   NAME      VALUE            ERROR       STEP SIZE       VALUE   \n",
      "   1  m            9.08351e+01   1.27733e-01   3.62178e-04   4.30764e-01\n",
      "   2  s            3.80539e+00   4.48737e-01   2.91895e-04  -2.41256e-01\n",
      "   3  sv           7.60439e-01   4.33074e-01   2.89037e-04  -2.41914e-01\n",
      "                               ERR DEF= 0.5\n",
      " EXTERNAL ERROR MATRIX.    NDIM=  25    NPAR=  3    ERR DEF=0.5\n",
      "  1.634e-02  4.158e-03 -7.218e-03 \n",
      "  4.158e-03  2.019e-01 -1.597e-01 \n",
      " -7.218e-03 -1.597e-01  2.015e-01 \n",
      " PARAMETER  CORRELATION COEFFICIENTS  \n",
      "       NO.  GLOBAL      1      2      3\n",
      "        1  0.13343   1.000  0.072 -0.126\n",
      "        2  0.79226   0.072  1.000 -0.792\n",
      "        3  0.79476  -0.126 -0.792  1.000\n",
      "[#1] INFO:Minization -- RooMinimizer::optimizeConst: deactivating const optimization\n",
      "[#1] INFO:InputArguments -- RooAbsData::plotOn(h) INFO: dataset has non-integer weights, auto-selecting SumW2 errors instead of Poisson errors\n",
      "[#1] INFO:NumericIntegration -- RooRealIntegral::init(func_Int[x]) using numeric integrator RooIntegrator1D to calculate Int(x)\n"
     ]
    },
    {
     "name": "stderr",
     "output_type": "stream",
     "text": [
      "Info in <TCanvas::Print>: pdf file fit.pdf has been created\n"
     ]
    }
   ],
   "source": [
    "# fit\n",
    "func.fitTo(h)\n",
    "#func.fitTo(h,ROOT.RooFit.Range(80,100)) # fit in peak range\n",
    "\n",
    "c = ROOT.TCanvas(\"c\",\"c\",1000,600)\n",
    "\n",
    "xframe = x.frame()\n",
    "\n",
    "h.plotOn(xframe)\n",
    "func.plotOn(xframe)\n",
    "\n",
    "xframe.Draw()\n",
    "\n",
    "c.SaveAs(\"fit.pdf\")"
   ]
  },
  {
   "cell_type": "markdown",
   "metadata": {},
   "source": [
    "# Output the fitting result"
   ]
  },
  {
   "cell_type": "code",
   "execution_count": 7,
   "metadata": {},
   "outputs": [
    {
     "name": "stdout",
     "output_type": "stream",
     "text": [
      "Chi-square:  RooChi2Var::chi2[ paramSet=(m,s,sv) ] = 12403.1\n",
      "\n",
      "RooRealVar::m = 90.8351 +/- 0.127733  L(88 - 92) \n",
      "[#1] INFO:NumericIntegration -- RooRealIntegral::init(func_Int[x]) using numeric integrator RooIntegrator1D to calculate Int(x)\n"
     ]
    },
    {
     "data": {
      "image/png": "[encoded data removed]",
      "text/plain": [
       "<IPython.core.display.Image object>"
      ]
     },
     "metadata": {},
     "output_type": "display_data"
    }
   ],
   "source": [
    "c.Draw()\n",
    "m.Print()\n",
    "chi2 = ROOT.RooChi2Var(\"chi2\",\"chi2\",func,h)\n",
    "print(\"Chi-square: \",chi2)"
   ]
  },
  {
   "cell_type": "code",
   "execution_count": null,
   "metadata": {},
   "outputs": [],
   "source": []
  }
 ],
 "metadata": {
  "kernelspec": {
   "display_name": "Python 3",
   "language": "python",
   "name": "python3"
  },
  "language_info": {
   "codemirror_mode": {
    "name": "ipython",
    "version": 3
   },
   "file_extension": ".py",
   "mimetype": "text/x-python",
   "name": "python",
   "nbconvert_exporter": "python",
   "pygments_lexer": "ipython3",
   "version": "3.8.5"
  }
 },
 "nbformat": 4,
 "nbformat_minor": 4
}
