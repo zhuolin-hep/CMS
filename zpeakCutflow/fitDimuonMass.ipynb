{
 "cells": [
  {
   "cell_type": "code",
   "execution_count": 1,
   "metadata": {},
   "outputs": [
    {
     "name": "stdout",
     "output_type": "stream",
     "text": [
      "Welcome to JupyROOT 6.20/06\n"
     ]
    }
   ],
   "source": [
    "import ROOT"
   ]
  },
  {
   "cell_type": "markdown",
   "metadata": {},
   "source": [
    "# Load the histogram"
   ]
  },
  {
   "cell_type": "code",
   "execution_count": 2,
   "metadata": {
    "slideshow": {
     "slide_type": "subslide"
    }
   },
   "outputs": [],
   "source": [
    "f = ROOT.TFile(\"zpeakCutflow_1.root\", \"READ\") # read the cut-flow root file\n",
    "f.cd(\"demo\")\n",
    "h_RecDiMuonM = ROOT.TH1F()\n",
    "h_RecDiMuonM_Scale = ROOT.TH1F()\n",
    "h_RecDiMuonM = f.Get(\"demo/h_RecDiMuonM\")"
   ]
  },
  {
   "cell_type": "markdown",
   "metadata": {},
   "source": [
    "# Scale the histogram"
   ]
  },
  {
   "cell_type": "code",
   "execution_count": 3,
   "metadata": {},
   "outputs": [],
   "source": [
    "scale = 59.74/97195\n",
    "h_RecDiMuonM.Scale(scale) # normalize the histogram to 59.74 /fb"
   ]
  },
  {
   "cell_type": "markdown",
   "metadata": {},
   "source": [
    "# Set Roofit"
   ]
  },
  {
   "cell_type": "code",
   "execution_count": 4,
   "metadata": {},
   "outputs": [
    {
     "name": "stdout",
     "output_type": "stream",
     "text": [
      "\n",
      "\u001b[1mRooFit v3.60 -- Developed by Wouter Verkerke and David Kirkby\u001b[0m \n",
      "                Copyright (C) 2000-2013 NIKHEF, University of California & Stanford University\n",
      "                All rights reserved, please read http://roofit.sourceforge.net/license.txt\n",
      "\n"
     ]
    }
   ],
   "source": [
    "# set RooFit variables\n",
    "x = ROOT.RooRealVar(\"x\",\"m_{#mu^{+}#mu^{-}}\",75,105)\n",
    "m = ROOT.RooRealVar(\"m\",\"m\",91,88,92) # mean\n",
    "s = ROOT.RooRealVar(\"s\",\"s\",3,0,10) # width or standard deviation\n",
    "\n",
    "# for crystal ball function\n",
    "a = ROOT.RooRealVar(\"a\",\"a\",0,5)\n",
    "n = ROOT.RooRealVar(\"n\",\"n\",1,6)\n",
    "\n",
    "# for Voigtian function\n",
    "sv = ROOT.RooRealVar(\"sv\",\"sv\",0,0,2) # sigma in Voigtian\n",
    "\n",
    "# for Bukin function\n",
    "xi = ROOT.RooRealVar(\"xi\",\"peak asymmetry\",-0.3,-1,1)\n",
    "rho1 = ROOT.RooRealVar(\"rho1\",\"left tail\",-0.5,-1,0)\n",
    "rho2 = ROOT.RooRealVar(\"rho2\",\"right tail\",0.4,0,1)\n",
    "\n",
    "# load the histogram\n",
    "ral = ROOT.RooArgList(x) # this line must be added in pyroot\n",
    "h = ROOT.RooDataHist(\"h\",\"Mass of dimuon\",ral,ROOT.RooFit.Import(h_RecDiMuonM))\n",
    "\n",
    "# set fit function \n",
    "#func = ROOT.RooCBShape(\"func\",\"func\",x,m,s,a,n) # crystal ball function\n",
    "#func = ROOT.RooGaussian(\"func\",\"func\",x,m,s)\n",
    "#func = ROOT.RooBreitWigner(\"func\",\"func\",x,m,s)\n",
    "func = ROOT.RooVoigtian(\"func\",\"func\",x,m,s,sv)\n",
    "#func = ROOT.RooBukinPdf(\"func\",\"func\",x,m,s,xi,rho1,rho2)"
   ]
  },
  {
   "cell_type": "markdown",
   "metadata": {},
   "source": [
    "# Fit the histogram"
   ]
  },
  {
   "cell_type": "code",
   "execution_count": null,
   "metadata": {
    "scrolled": false
   },
   "outputs": [],
   "source": [
    "# fit\n",
    "func.fitTo(h)\n",
    "#func.fitTo(h,ROOT.RooFit.Range(80,100)) # fit in peak range\n",
    "\n",
    "c = ROOT.TCanvas(\"c\",\"c\",1000,600)\n",
    "\n",
    "xframe = x.frame()\n",
    "\n",
    "h.plotOn(xframe)\n",
    "func.plotOn(xframe)\n",
    "\n",
    "xframe.Draw()\n",
    "\n",
    "c.SaveAs(\"fit.pdf\")"
   ]
  },
  {
   "cell_type": "markdown",
   "metadata": {},
   "source": [
    "# Output the fitting result"
   ]
  },
  {
   "cell_type": "code",
   "execution_count": null,
   "metadata": {},
   "outputs": [],
   "source": [
    "c.Draw()\n",
    "m.Print()\n",
    "chi2 = ROOT.RooChi2Var(\"chi2\",\"chi2\",func)\n",
    "print(\"Chi-square: \",chi2)"
   ]
  },
  {
   "cell_type": "code",
   "execution_count": null,
   "metadata": {},
   "outputs": [],
   "source": []
  }
 ],
 "metadata": {
  "kernelspec": {
   "display_name": "Python 3",
   "language": "python",
   "name": "python3"
  },
  "language_info": {
   "codemirror_mode": {
    "name": "ipython",
    "version": 3
   },
   "file_extension": ".py",
   "mimetype": "text/x-python",
   "name": "python",
   "nbconvert_exporter": "python",
   "pygments_lexer": "ipython3",
   "version": "3.7.6"
  }
 },
 "nbformat": 4,
 "nbformat_minor": 4
}
