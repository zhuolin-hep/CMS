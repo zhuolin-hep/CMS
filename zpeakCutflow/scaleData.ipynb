{
 "cells": [
  {
   "cell_type": "code",
   "execution_count": 1,
   "metadata": {},
   "outputs": [
    {
     "name": "stdout",
     "output_type": "stream",
     "text": [
      "Welcome to JupyROOT 6.20/06\n"
     ]
    }
   ],
   "source": [
    "import ROOT\n",
    "\n",
    "lumi_standard = 59.74"
   ]
  },
  {
   "cell_type": "markdown",
   "metadata": {},
   "source": [
    "# Load file"
   ]
  },
  {
   "cell_type": "code",
   "execution_count": 2,
   "metadata": {},
   "outputs": [
    {
     "name": "stdout",
     "output_type": "stream",
     "text": [
      "input the name of file which is needed to scale (no extension): zpeak_sig\n",
      "input the int. lumi. of your file: 97195\n"
     ]
    }
   ],
   "source": [
    "name = input(\"input the name of file which is needed to scale (no extension): \")\n",
    "\n",
    "name += \".root\"\n",
    "\n",
    "lumi = input(\"input the int. lumi. of your file: \")\n",
    "\n",
    "lumi = float(lumi)\n",
    "\n",
    "f = ROOT.TFile(name,\"READ\")"
   ]
  },
  {
   "cell_type": "markdown",
   "metadata": {},
   "source": [
    "# Load histograms in the file"
   ]
  },
  {
   "cell_type": "code",
   "execution_count": 3,
   "metadata": {},
   "outputs": [],
   "source": [
    "h_RecDiMuonM_Nocut = ROOT.TH1F()\n",
    "h_RecDiMuonM_pt = ROOT.TH1F()\n",
    "h_RecDiMuonM_eta = ROOT.TH1F()\n",
    "h_RecDiMuonM_iso = ROOT.TH1F()\n",
    "h_RecDiMuonM_dxy = ROOT.TH1F()\n",
    "h_RecDiMuonM = ROOT.TH1F()\n",
    "h_RecDiMuonM_Global = ROOT.TH1F()\n",
    "\n",
    "h_RecDiMuonM_Nocut = f.Get(\"demo/h_RecDiMuonM_Nocut\")\n",
    "h_RecDiMuonM_pt = f.Get(\"demo/h_RecDiMuonM_pt\")\n",
    "h_RecDiMuonM_eta = f.Get(\"demo/h_RecDiMuonM_eta\")\n",
    "h_RecDiMuonM_iso = f.Get(\"demo/h_RecDiMuonM_iso\")\n",
    "h_RecDiMuonM_dxy = f.Get(\"demo/h_RecDiMuonM_dxy\")\n",
    "h_RecDiMuonM = f.Get(\"demo/h_RecDiMuonM\")\n",
    "h_RecDiMuonM_Global = f.Get(\"demo/h_RecDiMuonM_Global\")"
   ]
  },
  {
   "cell_type": "markdown",
   "metadata": {},
   "source": [
    "# Scale histograms"
   ]
  },
  {
   "cell_type": "code",
   "execution_count": 4,
   "metadata": {},
   "outputs": [
    {
     "name": "stdout",
     "output_type": "stream",
     "text": [
      "TH1.Print Name  = h_RecDiMuonM_Nocut, Entries= 641, Total sum= 641.66\n"
     ]
    }
   ],
   "source": [
    "scale = lumi_standard/lumi\n",
    "\n",
    "for i in [h_RecDiMuonM_Nocut,h_RecDiMuonM_pt,h_RecDiMuonM_eta,h_RecDiMuonM_iso,h_RecDiMuonM_dxy,h_RecDiMuonM,h_RecDiMuonM_Global]:\n",
    "    i.Scale(scale)\n",
    "    entries = i.GetEntries()\n",
    "    i.SetEntries(entries * scale)\n",
    "    hist_uplim = i.GetNbinsX() + 1\n",
    "    for a in range(1,hist_uplim):\n",
    "        i.SetBinError(a,0) # each bin has an error bar after scaling, set the error = 0 of each bin\n",
    "        \n",
    "h_RecDiMuonM_Nocut.Print()"
   ]
  },
  {
   "cell_type": "markdown",
   "metadata": {},
   "source": [
    "# Write histograms to the new file"
   ]
  },
  {
   "cell_type": "code",
   "execution_count": 5,
   "metadata": {},
   "outputs": [],
   "source": [
    "new_name = 'scale_done/' + name\n",
    "\n",
    "fnew = ROOT.TFile(new_name,\"RECREATE\")\n",
    "\n",
    "h_RecDiMuonM_Nocut.Write()\n",
    "h_RecDiMuonM_pt.Write()\n",
    "h_RecDiMuonM_eta.Write()\n",
    "h_RecDiMuonM_iso.Write()\n",
    "h_RecDiMuonM_dxy.Write()\n",
    "h_RecDiMuonM.Write()\n",
    "h_RecDiMuonM_Global.Write()\n",
    "\n",
    "fnew.Close()"
   ]
  },
  {
   "cell_type": "code",
   "execution_count": null,
   "metadata": {},
   "outputs": [],
   "source": []
  }
 ],
 "metadata": {
  "kernelspec": {
   "display_name": "Python 3",
   "language": "python",
   "name": "python3"
  },
  "language_info": {
   "codemirror_mode": {
    "name": "ipython",
    "version": 3
   },
   "file_extension": ".py",
   "mimetype": "text/x-python",
   "name": "python",
   "nbconvert_exporter": "python",
   "pygments_lexer": "ipython3",
   "version": "3.7.6"
  }
 },
 "nbformat": 4,
 "nbformat_minor": 4
}
