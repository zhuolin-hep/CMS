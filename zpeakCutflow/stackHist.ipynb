{
 "cells": [
  {
   "cell_type": "code",
   "execution_count": 2,
   "metadata": {},
   "outputs": [],
   "source": [
    "import ROOT"
   ]
  },
  {
   "cell_type": "markdown",
   "metadata": {},
   "source": [
    "# Read Files"
   ]
  },
  {
   "cell_type": "code",
   "execution_count": 9,
   "metadata": {},
   "outputs": [
    {
     "name": "stdout",
     "output_type": "stream",
     "text": [
      "TFile: name=bkg_root/diboson_bkg_ZZ_TuneCP5.root, title=, option=READ\n"
     ]
    }
   ],
   "source": [
    "f_zjtoll_m4to50 = ROOT.TFile(\"bkg_root/DYJetsToLL.root\",\"READ\")\n",
    "f_zjtoll_tunecp5 = ROOT.TFile(\"bkg_root/DYJetsToLLTuneCP5.root\",\"READ\")\n",
    "f_zjtoll_tunecp5_m50 = ROOT.TFile(\"bkg_root/DYJetsToLLTuneCP5_M-50.root\",\"READ\")\n",
    "f_zjtoll_m_50BGF = ROOT.TFile(\"bkg_root/DYJetsToLLTuneCP5_M-50BGF_zpt.root\",\"READ\")\n",
    "\n",
    "f_qcd = ROOT.TFile(\"bkg_root/QCD_Bkg.root\",\"READ\")\n",
    "\n",
    "f_tt = ROOT.TFile(\"bkg_root/TTToSemiLeptonic.root\",\"READ\")\n",
    "\n",
    "f_st_t = ROOT.TFile(\"bkg_root/single_t_t.root\",\"READ\")\n",
    "f_st_s = ROOT.TFile(\"bkg_root/single_t_s.root\",\"READ\")\n",
    "\n",
    "f_zzto2l2q = ROOT.TFile(\"bkg_root/diboson_bkg_ZZTo2L2Q.root\",\"READ\")\n",
    "f_zz_tunecp5 = ROOT.TFile(\"bkg_root/diboson_bkg_ZZ_TuneCP5.root\",\"READ\")\n",
    "\n",
    "f_sig = ROOT.TFile(\"zpeak_sig.root\",\"READ\")"
   ]
  },
  {
   "cell_type": "markdown",
   "metadata": {},
   "source": [
    "# Read histograms and Classify"
   ]
  },
  {
   "cell_type": "code",
   "execution_count": 10,
   "metadata": {},
   "outputs": [],
   "source": [
    "# bkg\n",
    "zjtoll_m4to50 = ROOT.TH1F()\n",
    "zjtoll_tunecp5 = ROOT.TH1F()\n",
    "zjtoll_tunecp5_m50 = ROOT.TH1F()\n",
    "zjtoll_m_50BGF = ROOT.TH1F()\n",
    "\n",
    "qcd = ROOT.TH1F()\n",
    "\n",
    "tt = ROOT.TH1F()\n",
    "st_t = ROOT.TH1F()\n",
    "st_s = ROOT.TH1F()\n",
    "\n",
    "zzto2l2q = ROOT.TH1F()\n",
    "zz_tunecp5 = ROOT.TH1F()\n",
    "\n",
    "# sig\n",
    "sig = ROOT.TH1F()\n",
    "\n",
    "# category\n",
    "zjets = ROOT.TH1F()\n",
    "st = ROOT.TH1F()\n",
    "dib = ROOT.TH1F()\n",
    "\n",
    "# read histograms\n",
    "zjtoll_m4to50 = f_zjtoll_m4to50.Get(\"h_RecDiMuonM\")\n",
    "zjtoll_tunecp5 = f_zjtoll_tunecp5.Get(\"h_RecDiMuonM\")\n",
    "zjtoll_tunecp5_m50 = f_zjtoll_tunecp5_m50.Get(\"h_RecDiMuonM\")\n",
    "zjtoll_m_50BGF = f_zjtoll_m_50BGF.Get(\"h_RecDiMuonM\")\n",
    "\n",
    "qcd = f_qcd.Get(\"h_RecDiMuonM\")\n",
    "\n",
    "tt = f_tt.Get(\"h_RecDiMuonM\")\n",
    "st_t = f_st_t.Get(\"h_RecDiMuonM\")\n",
    "st_s = f_st_s.Get(\"h_RecDiMuonM\")\n",
    "\n",
    "zzto2l2q = f_zzto2l2q.Get(\"h_RecDiMuonM\")\n",
    "zz_tunecp5 = f_zz_tunecp5.Get(\"h_RecDiMuonM\")\n",
    "\n",
    "sig = f_sig.Get(\"h_RecDiMuonM\")\n",
    "\n",
    "# sum up different histograms (by categories)\n",
    "zjets = zjtoll_m4to50 + zjtoll_tunecp5 + zjtoll_tunecp5_m50 + zjtoll_m_50BGF\n",
    "st = st_t + st_s\n",
    "dib = zzto2l2q + zz_tunecp5"
   ]
  },
  {
   "cell_type": "markdown",
   "metadata": {},
   "source": [
    "# Plot stack"
   ]
  },
  {
   "cell_type": "code",
   "execution_count": 39,
   "metadata": {},
   "outputs": [],
   "source": [
    "c = ROOT.TCanvas()\n",
    "hs = ROOT.THStack(\"hs\",\"The invariant mass spectrum of dimuon\")\n",
    "\n",
    "zjets.SetFillColor(ROOT.kRed)\n",
    "zjets.SetLineColor(ROOT.kRed)\n",
    "zjets.SetFillStyle(3002)\n",
    "hs.Add(zjets)\n",
    "\n",
    "st.SetFillColor(ROOT.kBlue)\n",
    "st.SetLineColor(ROOT.kBlue)\n",
    "st.SetFillStyle(3004)\n",
    "hs.Add(st)\n",
    "\n",
    "tt.SetFillColor(ROOT.kGreen - 2)\n",
    "tt.SetLineColor(ROOT.kGreen - 2)\n",
    "tt.SetFillStyle(3005)\n",
    "hs.Add(tt)\n",
    "\n",
    "qcd.SetFillColor(ROOT.kViolet)\n",
    "qcd.SetLineColor(ROOT.kViolet)\n",
    "qcd.SetFillStyle(3006)\n",
    "hs.Add(qcd)\n",
    "\n",
    "dib.SetFillColor(ROOT.kBlack)\n",
    "dib.SetLineColor(ROOT.kBlack)\n",
    "dib.SetFillStyle(3007)\n",
    "hs.Add(dib)\n",
    "\n",
    "sig.SetFillColor(ROOT.kOrange)\n",
    "sig.SetLineColor(ROOT.kOrange)\n",
    "sig.SetFillStyle(3001)\n",
    "hs.Add(sig)\n",
    "\n",
    "hs.Draw()\n",
    "\n",
    "hs.GetXaxis().SetTitle(\"m_{#mu^{+}#mu^{-}}\")\n",
    "hs.GetYaxis().SetTitle(\"Events/0.5 GeV\")\n",
    "#c.SetLogy()\n",
    "\n",
    "leg = ROOT.TLegend(0.7,0.7,0.9,0.9)\n",
    "leg.AddEntry(zjets,\"Z+jets\",\"F\")\n",
    "leg.AddEntry(st,\"Single top\",\"F\")\n",
    "leg.AddEntry(tt,\"Double top\",\"F\")\n",
    "leg.AddEntry(qcd,\"QCD background\",\"F\")\n",
    "leg.AddEntry(dib,\"Diboson\",\"F\")\n",
    "leg.AddEntry(sig,\"Signal\",\"F\")\n",
    "\n",
    "leg.Draw()"
   ]
  },
  {
   "cell_type": "code",
   "execution_count": 40,
   "metadata": {},
   "outputs": [
    {
     "name": "stderr",
     "output_type": "stream",
     "text": [
      "Info in <TCanvas::Print>: pdf file stack.pdf has been created\n"
     ]
    },
    {
     "data": {
      "image/png": "[encoded data removed]",
      "text/plain": [
       "<IPython.core.display.Image object>"
      ]
     },
     "metadata": {},
     "output_type": "display_data"
    }
   ],
   "source": [
    "c.Draw()\n",
    "c.SaveAs(\"stack.pdf\")"
   ]
  },
  {
   "cell_type": "code",
   "execution_count": null,
   "metadata": {},
   "outputs": [],
   "source": []
  }
 ],
 "metadata": {
  "kernelspec": {
   "display_name": "Python 3",
   "language": "python",
   "name": "python3"
  },
  "language_info": {
   "codemirror_mode": {
    "name": "ipython",
    "version": 3
   },
   "file_extension": ".py",
   "mimetype": "text/x-python",
   "name": "python",
   "nbconvert_exporter": "python",
   "pygments_lexer": "ipython3",
   "version": "3.7.6"
  }
 },
 "nbformat": 4,
 "nbformat_minor": 4
}
