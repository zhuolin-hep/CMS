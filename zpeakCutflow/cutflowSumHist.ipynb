{
 "cells": [
  {
   "cell_type": "code",
   "execution_count": 26,
   "metadata": {},
   "outputs": [],
   "source": [
    "import ROOT"
   ]
  },
  {
   "cell_type": "markdown",
   "metadata": {},
   "source": [
    "# Open the file"
   ]
  },
  {
   "cell_type": "code",
   "execution_count": 42,
   "metadata": {},
   "outputs": [],
   "source": [
    "name = \"TTToSemiLeptonic\"\n",
    "path = \"bkg_root/\"\n",
    "full_name = path + name + \".root\"\n",
    "\n",
    "f = ROOT.TFile(full_name,\"READ\") # read the cut-flow root file\n",
    "#fout = ROOT.TFile(\"cutflowSum.root\",\"RECREATE\")\n",
    "#ROOT.gDirectory.pwd()\n",
    "#f.cd(\"demo\")\n",
    "#ROOT.gDirectory.pwd()\n",
    "#f.ls()"
   ]
  },
  {
   "cell_type": "markdown",
   "metadata": {},
   "source": [
    "# Load histograms"
   ]
  },
  {
   "cell_type": "code",
   "execution_count": 43,
   "metadata": {
    "slideshow": {
     "slide_type": "subslide"
    }
   },
   "outputs": [
    {
     "name": "stdout",
     "output_type": "stream",
     "text": [
      "TH1.Print Name  = h_RecDiMuonM_pt, Entries= 1027, Total sum= 1027.75\n"
     ]
    }
   ],
   "source": [
    "h_RecDiMuonM_Nocut = ROOT.TH1F()\n",
    "h_RecDiMuonM_pt = ROOT.TH1F()\n",
    "h_RecDiMuonM_eta = ROOT.TH1F()\n",
    "h_RecDiMuonM_iso = ROOT.TH1F()\n",
    "h_RecDiMuonM_dxy = ROOT.TH1F()\n",
    "h_RecDiMuonM = ROOT.TH1F()\n",
    "\n",
    "# Caution: Because I changed the path of histograms after scaling or merging, this part must be checked before running.\n",
    "\n",
    "# bkg analysis\n",
    "h_RecDiMuonM_Nocut = f.Get(\"h_RecDiMuonM_Nocut\")\n",
    "# sig analysis\n",
    "#h_RecDiMuonM_Nocut = f.Get(\"demo/h_RecDiMuonM_nocut\")\n",
    "\n",
    "h_RecDiMuonM_pt = f.Get(\"h_RecDiMuonM_pt\")\n",
    "h_RecDiMuonM_eta = f.Get(\"h_RecDiMuonM_eta\")\n",
    "h_RecDiMuonM_iso = f.Get(\"h_RecDiMuonM_iso\")\n",
    "h_RecDiMuonM_dxy = f.Get(\"h_RecDiMuonM_dxy\")\n",
    "h_RecDiMuonM = f.Get(\"h_RecDiMuonM\")\n",
    "\n",
    "h_RecDiMuonM_pt.Print() # check whether histograms are read successfully"
   ]
  },
  {
   "cell_type": "markdown",
   "metadata": {},
   "source": [
    "# Scale histograms"
   ]
  },
  {
   "cell_type": "code",
   "execution_count": 52,
   "metadata": {},
   "outputs": [],
   "source": [
    "# the cell shouldn't be run when the histogram has been scaled!!!\n",
    "\n",
    "# normalize histograms to 59.74 /fb\n",
    "scale = 59.74/16956\n",
    "\n",
    "for i in [h_RecDiMuonM_Nocut,h_RecDiMuonM_pt,h_RecDiMuonM_eta,h_RecDiMuonM_iso,h_RecDiMuonM_dxy,h_RecDiMuonM]:\n",
    "    i.Scale(scale)"
   ]
  },
  {
   "cell_type": "markdown",
   "metadata": {},
   "source": [
    "# Set the style of histograms and output"
   ]
  },
  {
   "cell_type": "code",
   "execution_count": 44,
   "metadata": {},
   "outputs": [
    {
     "name": "stderr",
     "output_type": "stream",
     "text": [
      "Warning in <TCanvas::Constructor>: Deleting canvas with same name: c\n",
      "Info in <TCanvas::Print>: pdf file cutflowHist_TTToSemiLeptonic.pdf has been created\n"
     ]
    },
    {
     "data": {
      "image/png": "[encoded data removed]",
      "text/plain": [
       "<IPython.core.display.Image object>"
      ]
     },
     "metadata": {},
     "output_type": "display_data"
    }
   ],
   "source": [
    "h_RecDiMuonM_Nocut.SetLineColor(2)\n",
    "\n",
    "c = ROOT.TCanvas('c')\n",
    "ROOT.gStyle.SetOptStat(ROOT.kFALSE)\n",
    "\n",
    "title = \"Cut-flow of \" + name\n",
    "\n",
    "h_RecDiMuonM_Nocut.SetLineColor(1)\n",
    "h_RecDiMuonM_Nocut.SetLineWidth(2)\n",
    "h_RecDiMuonM_Nocut.GetYaxis().SetTitle(\"Events/0.5 GeV\")\n",
    "h_RecDiMuonM_Nocut.SetTitle(title)\n",
    "h_RecDiMuonM_Nocut.Draw(\"HIST\")\n",
    "\n",
    "h_RecDiMuonM_pt.SetLineColor(30)\n",
    "h_RecDiMuonM_pt.Draw(\"HIST SAME\")\n",
    "\n",
    "h_RecDiMuonM_eta.SetLineColor(6)\n",
    "h_RecDiMuonM_eta.Draw(\"HIST SAME\")\n",
    "\n",
    "h_RecDiMuonM_iso.SetLineColor(2)\n",
    "h_RecDiMuonM_iso.Draw(\"HIST SAME\")\n",
    "    \n",
    "h_RecDiMuonM_dxy.SetLineColor(41)\n",
    "h_RecDiMuonM_dxy.Draw(\"HIST SAME\")\n",
    "\n",
    "h_RecDiMuonM.Draw(\"HIST SAME\")\n",
    "\n",
    "#ROOT.gPad.SetLogy()\n",
    "\n",
    "l = ROOT.TLegend(0.7, 0.7, 0.9, 0.9)\n",
    "l.AddEntry(h_RecDiMuonM_Nocut, \"No cut-off (75 < m < 105)\", \"l\")\n",
    "l.AddEntry(h_RecDiMuonM_pt, \"Add pT constraints\", \"l\")\n",
    "l.AddEntry(h_RecDiMuonM_eta, \"Add #eta constraints\", \"l\")\n",
    "l.AddEntry(h_RecDiMuonM_iso, \"Add isoltaion constraints\", \"l\")\n",
    "l.AddEntry(h_RecDiMuonM_dxy, \"Add dxy constraints\", \"l\")\n",
    "l.AddEntry(h_RecDiMuonM, \"Add dz constraints\", \"l\")\n",
    "l.Draw(\"SAME\");\n",
    "\n",
    "c.Draw()\n",
    "\n",
    "save_name = \"cutflowHist_\" + name + \".pdf\"\n",
    "\n",
    "c.SaveAs(save_name)"
   ]
  },
  {
   "cell_type": "code",
   "execution_count": null,
   "metadata": {},
   "outputs": [],
   "source": []
  }
 ],
 "metadata": {
  "kernelspec": {
   "display_name": "Python 3",
   "language": "python",
   "name": "python3"
  },
  "language_info": {
   "codemirror_mode": {
    "name": "ipython",
    "version": 3
   },
   "file_extension": ".py",
   "mimetype": "text/x-python",
   "name": "python",
   "nbconvert_exporter": "python",
   "pygments_lexer": "ipython3",
   "version": "3.7.6"
  }
 },
 "nbformat": 4,
 "nbformat_minor": 4
}
