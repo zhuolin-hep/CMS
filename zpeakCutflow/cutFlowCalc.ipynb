{
 "cells": [
  {
   "cell_type": "code",
   "execution_count": 1,
   "metadata": {},
   "outputs": [
    {
     "name": "stdout",
     "output_type": "stream",
     "text": [
      "Welcome to JupyROOT 6.20/06\n"
     ]
    }
   ],
   "source": [
    "import ROOT"
   ]
  },
  {
   "cell_type": "code",
   "execution_count": 22,
   "metadata": {},
   "outputs": [],
   "source": [
    "f = ROOT.TFile(\"bkg_root/QCD_Bkg.root\",\"READ\")\n",
    "\n",
    "h_RecDiMuonM_nocut = ROOT.TH1F()\n",
    "h_RecDiMuonM_pt = ROOT.TH1F()\n",
    "h_RecDiMuonM_eta = ROOT.TH1F()\n",
    "h_RecDiMuonM_iso = ROOT.TH1F()\n",
    "h_RecDiMuonM_dxy = ROOT.TH1F()\n",
    "h_RecDiMuonM = ROOT.TH1F()\n",
    "h_RecDiMuonM_Global = ROOT.TH1F()\n",
    "\n",
    "# bkg analysis\n",
    "h_RecDiMuonM_nocut = f.Get(\"demo/h_RecDiMuonM_Nocut\")\n",
    "# sig analysis\n",
    "#h_RecDiMuonM_nocut = f.Get(\"demo/h_RecDiMuonM_nocut\")\n",
    "h_RecDiMuonM_pt = f.Get(\"demo/h_RecDiMuonM_pt\")\n",
    "h_RecDiMuonM_eta = f.Get(\"demo/h_RecDiMuonM_eta\")\n",
    "h_RecDiMuonM_iso = f.Get(\"demo/h_RecDiMuonM_iso\")\n",
    "h_RecDiMuonM_dxy = f.Get(\"demo/h_RecDiMuonM_dxy\")\n",
    "h_RecDiMuonM = f.Get(\"demo/h_RecDiMuonM\")\n",
    "h_RecDiMuonM_Global = f.Get(\"demo/h_RecDiMuonM_Global\")"
   ]
  },
  {
   "cell_type": "code",
   "execution_count": 23,
   "metadata": {},
   "outputs": [
    {
     "name": "stdout",
     "output_type": "stream",
     "text": [
      "No cut =  33163764\n",
      "add mass =  183308 eff =  0.005527358112909017\n",
      "add pt =  75334 eff =  0.002271575687247081\n",
      "add eta =  75175 eff =  0.002266781297804435\n",
      "add iso =  175 eff =  5.276843726182589e-06\n",
      "add dxy =  134 eff =  4.040554624619811e-06\n",
      "add dz =  104 eff =  3.13595284298851e-06\n"
     ]
    }
   ],
   "source": [
    "nocut_ent = h_RecDiMuonM_nocut.GetEntries()\n",
    "pt_ent = h_RecDiMuonM_pt.GetEntries()\n",
    "eta_ent = h_RecDiMuonM_eta.GetEntries()\n",
    "iso_ent = h_RecDiMuonM_iso.GetEntries()\n",
    "dxy_ent = h_RecDiMuonM_dxy.GetEntries()\n",
    "dz_ent = h_RecDiMuonM.GetEntries()\n",
    "global_ent = h_RecDiMuonM_Global.GetEntries()\n",
    "\n",
    "print(\"No cut = \",int(global_ent))\n",
    "print(\"add mass = \",int(nocut_ent),\"eff = \",nocut_ent/global_ent)\n",
    "print(\"add pt = \",int(pt_ent),\"eff = \",pt_ent/global_ent)\n",
    "print(\"add eta = \",int(eta_ent),\"eff = \",eta_ent/global_ent)\n",
    "print(\"add iso = \",int(iso_ent),\"eff = \",iso_ent/global_ent)\n",
    "print(\"add dxy = \",int(dxy_ent),\"eff = \",dxy_ent/global_ent)\n",
    "print(\"add dz = \",int(dz_ent),\"eff = \",dz_ent/global_ent)"
   ]
  },
  {
   "cell_type": "code",
   "execution_count": null,
   "metadata": {},
   "outputs": [],
   "source": []
  },
  {
   "cell_type": "code",
   "execution_count": null,
   "metadata": {},
   "outputs": [],
   "source": []
  }
 ],
 "metadata": {
  "kernelspec": {
   "display_name": "Python 3",
   "language": "python",
   "name": "python3"
  },
  "language_info": {
   "codemirror_mode": {
    "name": "ipython",
    "version": 3
   },
   "file_extension": ".py",
   "mimetype": "text/x-python",
   "name": "python",
   "nbconvert_exporter": "python",
   "pygments_lexer": "ipython3",
   "version": "3.7.6"
  }
 },
 "nbformat": 4,
 "nbformat_minor": 4
}
