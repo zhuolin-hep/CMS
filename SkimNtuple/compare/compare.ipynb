{
 "cells": [
  {
   "cell_type": "code",
   "execution_count": null,
   "id": "45037265",
   "metadata": {},
   "outputs": [],
   "source": [
    "import uproot\n",
    "import pandas as pd"
   ]
  },
  {
   "cell_type": "code",
   "execution_count": null,
   "id": "ad833cea",
   "metadata": {},
   "outputs": [],
   "source": [
    "cutInit = uproot.open(\"./cutInit/TTToSemiLeptonic_TuneCP5_13TeV-powheg-pythia8.root:ZHCandidates\")\n",
    "cutAfter = uproot.open(\"./cutAfter/TTToSemiLeptonic_TuneCP5_13TeV-powheg-pythia8.root:ZHCandidates\")"
   ]
  },
  {
   "cell_type": "code",
   "execution_count": null,
   "id": "5d9e4126",
   "metadata": {},
   "outputs": [],
   "source": [
    "cutInitDataFrame = cutInit.arrays(library='pd')"
   ]
  },
  {
   "cell_type": "code",
   "execution_count": null,
   "id": "b45611a7",
   "metadata": {},
   "outputs": [],
   "source": [
    "cutAfterDataFrame = cutAfter.arrays(library='pd')"
   ]
  },
  {
   "cell_type": "code",
   "execution_count": null,
   "id": "5bc02a03",
   "metadata": {},
   "outputs": [],
   "source": [
    "nRow = 0\n",
    "if len(cutInitDataFrame.index) < len(cutAfterDataFrame.index):\n",
    "    nRow = len(cutInitDataFrame.index)\n",
    "else: nRow = len(cutAfterDataFrame.index)\n",
    "cutInitDataFrame.compare(cutAfterDataFrame[0:nRow], align_axis=1).to_csv(\"compareResult.csv\")"
   ]
  },
  {
   "cell_type": "code",
   "execution_count": null,
   "id": "c4913303",
   "metadata": {},
   "outputs": [],
   "source": [
    "cutInitDataFrame"
   ]
  },
  {
   "cell_type": "code",
   "execution_count": null,
   "id": "a913e018",
   "metadata": {},
   "outputs": [],
   "source": [
    "cutAfterDataFrame"
   ]
  }
 ],
 "metadata": {
  "kernelspec": {
   "display_name": "Python 3",
   "language": "python",
   "name": "python3"
  },
  "language_info": {
   "codemirror_mode": {
    "name": "ipython",
    "version": 3
   },
   "file_extension": ".py",
   "mimetype": "text/x-python",
   "name": "python",
   "nbconvert_exporter": "python",
   "pygments_lexer": "ipython3",
   "version": "3.9.4"
  }
 },
 "nbformat": 4,
 "nbformat_minor": 5
}