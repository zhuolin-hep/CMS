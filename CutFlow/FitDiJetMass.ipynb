{
 "cells": [
  {
   "cell_type": "code",
   "execution_count": 1,
   "metadata": {},
   "outputs": [
    {
     "name": "stdout",
     "output_type": "stream",
     "text": [
      "Welcome to JupyROOT 6.22/06\n"
     ]
    }
   ],
   "source": [
    "import ROOT\n",
    "import json\n",
    "%jsroot on"
   ]
  },
  {
   "cell_type": "markdown",
   "metadata": {},
   "source": [
    "# Load signal MC sample"
   ]
  },
  {
   "cell_type": "code",
   "execution_count": 2,
   "metadata": {},
   "outputs": [],
   "source": [
    "#JobPath = input(\"Enter the path of signal MC sample: \") # JetAnalysis/Jet+btagging\n",
    "JobPath = \"JetAnalysis/NtupleAnalysis\"\n",
    "MCPath = \"~/Work/Hbb/{}/Samples\".format(JobPath)\n",
    "f = ROOT.TFile(\"{}/ZH_HToBB_ZToLL_M125_13TeV_powheg_pythia8.root\".format(MCPath), \"READ\")\n",
    "hist = ROOT.TH1F()\n",
    "hist = f.Get(\"h_RecDiJet_Match_M\")"
   ]
  },
  {
   "cell_type": "markdown",
   "metadata": {},
   "source": [
    "# Scale the invariant mass spectra"
   ]
  },
  {
   "cell_type": "code",
   "execution_count": 3,
   "metadata": {
    "code_folding": []
   },
   "outputs": [
    {
     "name": "stdout",
     "output_type": "stream",
     "text": [
      "The primary name:  ZH_HToBB_ZToLL_M125_13TeV_powheg_pythia8\n",
      "The factor is  0.0005726334482615378\n"
     ]
    }
   ],
   "source": [
    "MCInfoList = []\n",
    "SigSampleName = \"ZH_HToBB_ZToLL_M125_13TeV_powheg_pythia8\"\n",
    "with open(\"../Database/MCInfo.json\") as MCInfo:\n",
    "    MCInfoList = json.load(MCInfo)\n",
    "for i in MCInfoList:\n",
    "    for key, value in i.items():\n",
    "        if key == 'primary_name':\n",
    "            if value == SigSampleName:\n",
    "                factor = i['factor_2018']\n",
    "                print(\"The primary name: \", value)\n",
    "                print(\"The factor is \", factor)\n",
    "                break\n",
    "factor = factor * 0.004536324 # A correction to control trigger HLT_IsoMu20_v*\n",
    "hist.Scale(factor)"
   ]
  },
  {
   "cell_type": "markdown",
   "metadata": {},
   "source": [
    "# Set Roofit"
   ]
  },
  {
   "cell_type": "code",
   "execution_count": 4,
   "metadata": {},
   "outputs": [
    {
     "name": "stdout",
     "output_type": "stream",
     "text": [
      "\n",
      "\u001b[1mRooFit v3.60 -- Developed by Wouter Verkerke and David Kirkby\u001b[0m \n",
      "                Copyright (C) 2000-2013 NIKHEF, University of California & Stanford University\n",
      "                All rights reserved, please read http://roofit.sourceforge.net/license.txt\n",
      "\n",
      "[#0] WARNING:InputArguments -- The parameter 'rho1' with range [-1, 0] of the RooBukinPdf 'func' exceeds the safe range of (-1, 0). Advise to limit its range.\n",
      "[#0] WARNING:InputArguments -- The parameter 'rho2' with range [0, 1] of the RooBukinPdf 'func' exceeds the safe range of (0, 1). Advise to limit its range.\n",
      "[#0] WARNING:InputArguments -- The parameter 'xi' with range [-1, 1] of the RooBukinPdf 'func' exceeds the safe range of (-1, 1). Advise to limit its range.\n"
     ]
    }
   ],
   "source": [
    "# set RooFit variables\n",
    "x = ROOT.RooRealVar(\"x\",\"m_{dijet}\",50, 200)\n",
    "m = ROOT.RooRealVar(\"m\",\"m\",114, 110, 120) # mean\n",
    "s = ROOT.RooRealVar(\"s\",\"s\",18.29787234, 5, ROOT.RooNumber.infinity()) # width or standard deviation\n",
    "\n",
    "# for crystal ball function\n",
    "a = ROOT.RooRealVar(\"a\",\"a\",1.55502e+00, -3, 10)\n",
    "n = ROOT.RooRealVar(\"n\",\"n\",4.41255e+00, 0, 10)\n",
    "\n",
    "# for Voigtian function\n",
    "sv = ROOT.RooRealVar(\"sv\",\"sv\",0,0,2) # sigma in Voigtian\n",
    "\n",
    "# for Bukin function\n",
    "xi = ROOT.RooRealVar(\"xi\",\"peak asymmetry\",-1.8322e-01, -1, 1)\n",
    "rho1 = ROOT.RooRealVar(\"rho1\",\"left tail\",-0.1790206614531008, -1, 0)\n",
    "rho2 = ROOT.RooRealVar(\"rho2\",\"right tail\",0.21758760999527632, 0, 1)\n",
    "\n",
    "# load the histogram\n",
    "ral = ROOT.RooArgList(x) # this line must be added in pyroot\n",
    "h = ROOT.RooDataHist(\"h\",\"Mass of dijet\",ral,ROOT.RooFit.Import(hist))\n",
    "\n",
    "# set fit function \n",
    "#func = ROOT.RooCBShape(\"func\",\"func\",x,m,s,a,n) # crystal ball function\n",
    "#func = ROOT.RooGaussian(\"func\",\"func\",x,m,s)\n",
    "#func = ROOT.RooBreitWigner(\"func\",\"func\",x,m,s)\n",
    "#func = ROOT.RooVoigtian(\"func\",\"func\",x,m,s,sv)\n",
    "func = ROOT.RooBukinPdf(\"func\",\"func\",x,m,s,xi,rho1,rho2)"
   ]
  },
  {
   "cell_type": "markdown",
   "metadata": {},
   "source": [
    "# Fit"
   ]
  },
  {
   "cell_type": "code",
   "execution_count": 5,
   "metadata": {},
   "outputs": [
    {
     "name": "stdout",
     "output_type": "stream",
     "text": [
      "[#0] WARNING:InputArguments -- RooAbsPdf::fitTo(func) WARNING: a likelihood fit is requested of what appears to be weighted data.\n",
      "       While the estimated values of the parameters will always be calculated taking the weights into account,\n",
      "       there are multiple ways to estimate the errors of the parameters. You are advised to make an \n",
      "       explicit choice for the error calculation:\n",
      "           - Either provide SumW2Error(true), to calculate a sum-of-weights-corrected HESSE error matrix\n",
      "             (error will be proportional to the number of events in MC).\n",
      "           - Or provide SumW2Error(false), to return errors from original HESSE error matrix\n",
      "             (which will be proportional to the sum of the weights, i.e., a dataset with <sum of weights> events).\n",
      "           - Or provide AsymptoticError(true), to use the asymptotically correct expression\n",
      "             (for details see https://arxiv.org/abs/1911.01303).\n",
      "[#1] INFO:NumericIntegration -- RooRealIntegral::init(func_Int[x]) using numeric integrator RooIntegrator1D to calculate Int(x)\n",
      "[#1] INFO:Minization -- RooMinimizer::optimizeConst: activating const optimization\n",
      " **********\n",
      " **    1 **SET PRINT           1\n",
      " **********\n",
      " **********\n",
      " **    2 **SET NOGRAD\n",
      " **********\n",
      " PARAMETER DEFINITIONS:\n",
      "    NO.   NAME         VALUE      STEP SIZE      LIMITS\n",
      "     1 m            1.14000e+02  1.00000e+00    1.10000e+02  1.20000e+02\n",
      "     2 rho1        -1.79021e-01  8.95103e-02   -1.00000e+00  0.00000e+00\n",
      "     3 rho2         2.17588e-01  1.00000e-01    0.00000e+00  1.00000e+00\n",
      "     4 s            1.82979e+01  1.00000e+00    5.00000e+00  1.00000e+07\n",
      "     5 xi          -1.83220e-01  2.00000e-01   -1.00000e+00  1.00000e+00\n",
      " **********\n",
      " **    3 **SET ERR         0.5\n",
      " **********\n",
      " **********\n",
      " **    4 **SET PRINT           1\n",
      " **********\n",
      " **********\n",
      " **    5 **SET STR           1\n",
      " **********\n",
      " NOW USING STRATEGY  1: TRY TO BALANCE SPEED AGAINST RELIABILITY\n",
      " **********\n",
      " **    6 **MIGRAD        2500           1\n",
      " **********\n",
      " FIRST CALL TO USER FUNCTION AT NEW START POINT, WITH IFLAG=4.\n",
      " START MIGRAD MINIMIZATION.  STRATEGY  1.  CONVERGENCE WHEN EDM .LT. 1.00e-03\n",
      " FCN=3.02738 FROM MIGRAD    STATUS=INITIATE       18 CALLS          19 TOTAL\n",
      "                     EDM= unknown      STRATEGY= 1      NO ERROR MATRIX       \n",
      "  EXT PARAMETER               CURRENT GUESS       STEP         FIRST   \n",
      "  NO.   NAME      VALUE            ERROR          SIZE      DERIVATIVE \n",
      "   1  m            1.14000e+02   1.00000e+00   2.05758e-01  -8.24960e-03\n",
      "   2  rho1        -1.79021e-01   8.95103e-02   2.40909e-01   2.08707e-03\n",
      "   3  rho2         2.17588e-01   1.00000e-01   2.48662e-01   3.07132e-03\n",
      "   4  s            1.82979e+01   1.00000e+00   8.67794e-05   7.33663e+00\n",
      "   5  xi          -1.83220e-01   2.00000e-01   2.05030e-01  -4.04093e-02\n",
      "                               ERR DEF= 0.5\n",
      " MINUIT WARNING IN MIGRAD  \n",
      " ============== Negative diagonal element 4 in Error Matrix\n",
      " MINUIT WARNING IN MIGRAD  \n",
      " ============== 1 added to diagonal of error matrix\n",
      " MIGRAD FAILS TO FIND IMPROVEMENT\n",
      " MINUIT WARNING IN HESSE   \n",
      " ============== Negative diagonal element 4 in Error Matrix\n",
      " MINUIT WARNING IN HESSE   \n",
      " ============== 2.37895e+08 added to diagonal of error matrix\n",
      " COVARIANCE MATRIX CALCULATED SUCCESSFULLY\n",
      " FCN=3.02619 FROM HESSE     STATUS=OK             33 CALLS          93 TOTAL\n",
      "                     EDM=0.535284    STRATEGY= 1      ERROR MATRIX ACCURATE \n",
      "  EXT PARAMETER                                   STEP         FIRST   \n",
      "  NO.   NAME      VALUE            ERROR          SIZE      DERIVATIVE \n",
      "   1  m            1.15039e+02   3.24164e-04   6.85794e-03  -2.27903e-04\n",
      "   2  rho1        -2.05979e-01   2.62202e-05   1.35300e-02  -1.99319e-04\n",
      "   3  rho2         1.97851e-01   2.58289e-05   3.18702e-03  -1.09971e-03\n",
      "   4  s            1.80573e+01   6.14444e+06   2.64001e-06   1.03468e+00\n",
      "   5  xi          -1.78859e-01   6.37892e-05   8.44211e-04   2.86822e-03\n",
      "                               ERR DEF= 0.5\n",
      " MIGRAD MINIMIZATION HAS CONVERGED.\n",
      " MIGRAD WILL VERIFY CONVERGENCE AND ERROR MATRIX.\n",
      " EIGENVALUES OF SECOND-DERIVATIVE MATRIX:\n",
      "        -1.6979e+03  1.7482e-01  6.7505e-01  2.1337e+00  1.6999e+03\n",
      " MINUIT WARNING IN HESSE   \n",
      " ============== MATRIX FORCED POS-DEF BY ADDING 1699.591398 TO DIAGONAL.\n",
      " FCN=3.02619 FROM MIGRAD    STATUS=CONVERGED     155 CALLS         156 TOTAL\n",
      "                     EDM=2.60982e-06    STRATEGY= 1      ERR MATRIX NOT POS-DEF\n",
      "  EXT PARAMETER                APPROXIMATE        STEP         FIRST   \n",
      "  NO.   NAME      VALUE            ERROR          SIZE      DERIVATIVE \n",
      "   1  m            1.15039e+02   6.34087e-01   6.79999e-03  -2.35311e-04\n",
      "   2  rho1        -2.05979e-01   7.59316e-01   1.36346e-02  -3.25383e-04\n",
      "   3  rho2         1.97851e-01   3.05352e-01   3.59893e-03  -1.26783e-03\n",
      "   4  s            1.80086e+01   1.25497e+01   2.63026e-06   4.43644e-04\n",
      "   5  xi          -1.78859e-01   1.98002e-01   8.40920e-04   2.79722e-03\n",
      "                               ERR DEF= 0.5\n",
      " EXTERNAL ERROR MATRIX.    NDIM=  25    NPAR=  5    ERR DEF=0.5\n",
      "  4.042e-01 -3.813e-03 -9.978e-04 -3.604e-02 -5.753e-04 \n",
      " -3.813e-03  1.786e+00  4.622e-01  1.672e+01  2.648e-01 \n",
      " -9.978e-04  4.622e-01  1.211e-01  4.353e+00  6.895e-02 \n",
      " -3.604e-02  1.672e+01  4.353e+00  1.575e+02  2.494e+00 \n",
      " -5.753e-04  2.648e-01  6.895e-02  2.494e+00  3.975e-02 \n",
      "ERR MATRIX NOT POS-DEF\n",
      " PARAMETER  CORRELATION COEFFICIENTS  \n",
      "       NO.  GLOBAL      1      2      3      4      5\n",
      "        1  0.00455   1.000 -0.004 -0.005 -0.005 -0.005\n",
      "        2  0.99702  -0.004  1.000  0.994  0.997  0.994\n",
      "        3  0.99703  -0.005  0.994  1.000  0.997  0.994\n",
      "        4  0.99900  -0.005  0.997  0.997  1.000  0.997\n",
      "        5  0.99698  -0.005  0.994  0.994  0.997  1.000\n",
      " ERR MATRIX NOT POS-DEF\n",
      " **********\n",
      " **    7 **HESSE        2500\n",
      " **********\n",
      " COVARIANCE MATRIX CALCULATED SUCCESSFULLY\n",
      " FCN=3.02619 FROM HESSE     STATUS=OK             31 CALLS         187 TOTAL\n",
      "                     EDM=0.000127229    STRATEGY= 1      ERROR MATRIX ACCURATE \n",
      "  EXT PARAMETER                                INTERNAL      INTERNAL  \n",
      "  NO.   NAME      VALUE            ERROR       STEP SIZE       VALUE   \n",
      "   1  m            1.15039e+02   7.47363e+00   1.36000e-03   7.77873e-03\n",
      "   2  rho1        -2.05979e-01   8.79813e-01   2.72691e-03   6.28637e-01\n",
      "   3  rho2         1.97851e-01   8.01927e-01   7.19785e-04  -6.48884e-01\n",
      "   4  s            1.80086e+01   3.58979e+01   1.05211e-07  -1.56852e+00\n",
      "   5  xi          -1.78859e-01   1.28520e+00   1.68184e-04  -1.79827e-01\n",
      "                               ERR DEF= 0.5\n",
      " EXTERNAL ERROR MATRIX.    NDIM=  25    NPAR=  5    ERR DEF=0.5\n",
      "  3.068e+03 -1.920e+02  7.357e+01  3.457e+02 -9.733e+01 \n",
      " -1.920e+02  7.505e+01 -7.989e+00 -2.280e+02  1.228e+01 \n",
      "  7.357e+01 -7.989e+00  3.946e+00  1.058e+01 -3.339e+00 \n",
      "  3.457e+02 -2.280e+02  1.058e+01  1.289e+03 -2.857e+01 \n",
      " -9.733e+01  1.228e+01 -3.339e+00 -2.857e+01  4.329e+00 \n",
      " PARAMETER  CORRELATION COEFFICIENTS  \n",
      "       NO.  GLOBAL      1      2      3      4      5\n",
      "        1  0.88086   1.000 -0.400  0.669  0.174 -0.845\n",
      "        2  0.87130  -0.400  1.000 -0.464 -0.733  0.681\n",
      "        3  0.83081   0.669 -0.464  1.000  0.148 -0.808\n",
      "        4  0.76465   0.174 -0.733  0.148  1.000 -0.383\n",
      "        5  0.95183  -0.845  0.681 -0.808 -0.383  1.000\n",
      " **********\n",
      " **    8 **SET ERR         0.5\n",
      " **********\n",
      " **********\n",
      " **    9 **SET PRINT           1\n",
      " **********\n",
      " **********\n",
      " **   10 **HESSE        2500\n",
      " **********\n",
      " COVARIANCE MATRIX CALCULATED SUCCESSFULLY\n",
      " FCN=3.02619 FROM HESSE     STATUS=OK             31 CALLS         218 TOTAL\n",
      "                     EDM=0.00012713    STRATEGY= 1      ERROR MATRIX ACCURATE \n",
      "  EXT PARAMETER                                INTERNAL      INTERNAL  \n",
      "  NO.   NAME      VALUE            ERROR       STEP SIZE       VALUE   \n",
      "   1  m            1.15039e+02   7.47389e+00   2.72000e-04   7.77873e-03\n",
      "   2  rho1        -2.05979e-01   8.74513e-01   5.45382e-04   6.28637e-01\n",
      "   3  rho2         1.97851e-01   8.02027e-01   1.43957e-04  -6.48884e-01\n",
      "   4  s            1.80086e+01   3.59825e+01   3.73963e-07  -1.56852e+00\n",
      "   5  xi          -1.78859e-01   1.28469e+00   3.36368e-05  -1.79827e-01\n",
      "                               ERR DEF= 0.5\n",
      " EXTERNAL ERROR MATRIX.    NDIM=  25    NPAR=  5    ERR DEF=0.5\n",
      "  3.067e+03 -1.925e+02  7.353e+01  3.482e+02 -9.736e+01 \n",
      " -1.925e+02  7.544e+01 -8.013e+00 -2.296e+02  1.234e+01 \n",
      "  7.353e+01 -8.013e+00  3.946e+00  1.068e+01 -3.341e+00 \n",
      "  3.482e+02 -2.296e+02  1.068e+01  1.295e+03 -2.880e+01 \n",
      " -9.736e+01  1.234e+01 -3.341e+00 -2.880e+01  4.336e+00 \n",
      " PARAMETER  CORRELATION COEFFICIENTS  \n",
      "       NO.  GLOBAL      1      2      3      4      5\n",
      "        1  0.88083   1.000 -0.400  0.668  0.175 -0.844\n",
      "        2  0.87200  -0.400  1.000 -0.464 -0.735  0.682\n",
      "        3  0.83077   0.668 -0.464  1.000  0.149 -0.808\n",
      "        4  0.76593   0.175 -0.735  0.149  1.000 -0.384\n",
      "        5  0.95190  -0.844  0.682 -0.808 -0.384  1.000\n",
      "[#1] INFO:Minization -- RooMinimizer::optimizeConst: deactivating const optimization\n",
      "\n",
      "  RooFitResult: minimized FCN value: 3.02619, estimated distance to minimum: 0.00012713\n",
      "                covariance matrix quality: Full, accurate covariance matrix\n",
      "                Status : MINIMIZE=0 HESSE=0 \n",
      "\n",
      "    Floating Parameter    FinalValue +/-  Error   \n",
      "  --------------------  --------------------------\n",
      "                     m    1.1504e+02 +/-  7.47e+00\n",
      "                  rho1   -2.0598e-01 +/-  8.75e-01\n",
      "                  rho2    1.9785e-01 +/-  8.02e-01\n",
      "                     s    1.8009e+01 +/-  3.60e+01\n",
      "                    xi   -1.7886e-01 +/-  1.28e+00\n",
      "\n",
      "[#1] INFO:InputArguments -- RooAbsData::plotOn(h) INFO: dataset has non-integer weights, auto-selecting SumW2 errors instead of Poisson errors\n",
      "[#1] INFO:NumericIntegration -- RooRealIntegral::init(func_Int[x]) using numeric integrator RooIntegrator1D to calculate Int(x)\n"
     ]
    },
    {
     "name": "stderr",
     "output_type": "stream",
     "text": [
      "Warning in <TMinuitMinimizer::SetLowerLimitedVariable>: not implemented - use as upper limit 1.E7 instead of +inf\n"
     ]
    }
   ],
   "source": [
    "# fit\n",
    "massFit = func.fitTo(h, ROOT.RooFit.Save())\n",
    "#func.fitTo(h,ROOT.RooFit.Range(50,160)) # fit in peak range\n",
    "massFit.Print()\n",
    "\n",
    "c = ROOT.TCanvas(\"c\",\"c\",800,600)\n",
    "\n",
    "xframe1 = x.frame()\n",
    "\n",
    "h.plotOn(xframe1)\n",
    "func.plotOn(xframe1, ROOT.RooFit.LineColor(ROOT.kBlue))\n",
    "\n",
    "h_pull = ROOT.RooHist()\n",
    "h_pull = xframe1.pullHist()\n",
    "xframe2 = x.frame()\n",
    "xframe2.addObject(h_pull)"
   ]
  },
  {
   "cell_type": "markdown",
   "metadata": {},
   "source": [
    "# Change the style of TCanvas"
   ]
  },
  {
   "cell_type": "code",
   "execution_count": 34,
   "metadata": {},
   "outputs": [],
   "source": [
    "upperPad = ROOT.TPad(\"upperPad\", \"upperPad\", 0., 0.3, 1. , 1.)\n",
    "lowerPad = ROOT.TPad(\"lowerPad\", \"lowerPad\", 0., 0., 1. , 0.3)\n",
    "upperPad.Draw()\n",
    "lowerPad.Draw()\n",
    "# upper pad\n",
    "upperPad.cd()\n",
    "upperPad.SetBottomMargin(0.)\n",
    "xframe1.SetTitle(\"\")\n",
    "sigLine1 = ROOT.TLine(90, 0, 90, 0.03)\n",
    "sigLine2 = ROOT.TLine(150, 0, 150, 0.03)\n",
    "sigLine1.SetLineStyle(2)\n",
    "sigLine2.SetLineStyle(2)\n",
    "xframe1.Draw()\n",
    "sigLine1.Draw()\n",
    "sigLine2.Draw()\n",
    "# lower pad\n",
    "lowerPad.cd()\n",
    "lowerPad.SetTopMargin(0.)\n",
    "lowerPad.SetBottomMargin(0.3)\n",
    "xframe2.SetTitle(\"\")\n",
    "xframe2.SetMaximum(5.)\n",
    "xframe2.SetMinimum(-5.)\n",
    "xframe2.GetYaxis().SetTitleSize(0.1)\n",
    "xframe2.GetYaxis().SetNdivisions(505)\n",
    "xframe2.GetYaxis().SetTitle(\"Pull\")\n",
    "xframe2.GetYaxis().SetTitleOffset(0.2)\n",
    "xframe2.GetYaxis().SetLabelSize(0.08)\n",
    "xframe2.GetXaxis().SetTitleSize(0.1)\n",
    "xframe2.GetXaxis().SetLabelSize(0.08)\n",
    "\n",
    "line0 = ROOT.TLine(50, 0, 200, 0)\n",
    "line1 = ROOT.TLine(50, 1, 200, 1)\n",
    "line2 = ROOT.TLine(50, -1, 200, -1)\n",
    "line0.SetLineWidth(2)\n",
    "line0.SetLineStyle(2)\n",
    "line1.SetLineWidth(2)\n",
    "line1.SetLineStyle(2)\n",
    "line2.SetLineWidth(2)\n",
    "line2.SetLineStyle(2)\n",
    "\n",
    "\n",
    "xframe2.Draw()\n",
    "line0.Draw()\n",
    "line1.Draw()\n",
    "line2.Draw()"
   ]
  },
  {
   "cell_type": "code",
   "execution_count": 10,
   "metadata": {},
   "outputs": [],
   "source": [
    "xframe1.SetTitle(\"\")\n",
    "sigLine1 = ROOT.TLine(90, 0, 90, 0.029)\n",
    "sigLine2 = ROOT.TLine(150, 0, 150, 0.029)\n",
    "sigLine1.SetLineStyle(2)\n",
    "sigLine1.SetLineWidth(2)\n",
    "sigLine2.SetLineStyle(2)\n",
    "sigLine2.SetLineWidth(2)\n",
    "xframe1.Draw()\n",
    "sigLine1.Draw()\n",
    "sigLine2.Draw()"
   ]
  },
  {
   "cell_type": "markdown",
   "metadata": {},
   "source": [
    "# Plot the figure"
   ]
  },
  {
   "cell_type": "code",
   "execution_count": 11,
   "metadata": {},
   "outputs": [
    {
     "name": "stdout",
     "output_type": "stream",
     "text": [
      "Chi-square:  7.717382912354021\n",
      "RooRealVar::m = 115.039 +/- 7.47389  L(110 - 120) \n"
     ]
    },
    {
     "name": "stderr",
     "output_type": "stream",
     "text": [
      "Info in <TCanvas::Print>: pdf file fit.pdf has been created\n"
     ]
    },
    {
     "data": {
      "text/html": [
       "\n",
       "<div id=\"root_plot_1616079620958\"\n",
       "     style=\"width: 796px; height: 572px\">\n",
       "</div>\n",
       "<script src=\"/static/components/requirejs/require.js\" type=\"text/javascript\" charset=\"utf-8\"></script>\n",
       "<script>\n",
       " requirejs.config({\n",
       "     paths: {\n",
       "       'JSRootCore' : '/static/scripts/JSRootCore',\n",
       "     }\n",
       "   });\n",
       " require(['JSRootCore'],\n",
       "     function(Core) {\n",
       "       var obj = Core.JSONR_unref({\"_typename\":\"TCanvas\",\"fUniqueID\":0,\"fBits\":3342344,\"fLineColor\":1,\"fLineStyle\":1,\"fLineWidth\":1,\"fFillColor\":0,\"fFillStyle\":1001,\"fLeftMargin\":0.1,\"fRightMargin\":0.1,\"fBottomMargin\":0.1,\"fTopMargin\":0.1,\"fXfile\":2,\"fYfile\":2,\"fAfile\":1,\"fXstat\":0.99,\"fYstat\":0.99,\"fAstat\":2,\"fFrameFillColor\":0,\"fFrameLineColor\":1,\"fFrameFillStyle\":1001,\"fFrameLineStyle\":1,\"fFrameLineWidth\":1,\"fFrameBorderSize\":1,\"fFrameBorderMode\":0,\"fX1\":31.2499986030161,\"fY1\":-0.00363606540055443,\"fX2\":218.750001396984,\"fY2\":0.0327245864377261,\"fXtoAbsPixelk\":-132.666608759117,\"fXtoPixelk\":-132.666608759117,\"fXtoPixel\":4.24533327007293,\"fYtoAbsPixelk\":514.800046590614,\"fYtoPixelk\":514.800046590614,\"fYtoPixel\":-15731.2911370252,\"fUtoAbsPixelk\":5e-5,\"fUtoPixelk\":5e-5,\"fUtoPixel\":796,\"fVtoAbsPixelk\":572.00005,\"fVtoPixelk\":572,\"fVtoPixel\":-572,\"fAbsPixeltoXk\":31.2499986030161,\"fPixeltoXk\":31.2499986030161,\"fPixeltoX\":0.235552767329105,\"fAbsPixeltoYk\":0.0327245864377261,\"fPixeltoYk\":-0.00363606540055443,\"fPixeltoY\":-6.3567573143847e-5,\"fXlowNDC\":0,\"fYlowNDC\":0,\"fXUpNDC\":1,\"fYUpNDC\":1,\"fWNDC\":1,\"fHNDC\":1,\"fAbsXlowNDC\":0,\"fAbsYlowNDC\":0,\"fAbsWNDC\":1,\"fAbsHNDC\":1,\"fUxmin\":50,\"fUymin\":0,\"fUxmax\":200,\"fUymax\":0.0290885210371716,\"fTheta\":30,\"fPhi\":30,\"fAspectRatio\":0,\"fNumber\":0,\"fTickx\":0,\"fTicky\":0,\"fLogx\":0,\"fLogy\":0,\"fLogz\":0,\"fPadPaint\":0,\"fCrosshair\":0,\"fCrosshairPos\":0,\"fBorderSize\":2,\"fBorderMode\":0,\"fModified\":false,\"fGridx\":false,\"fGridy\":false,\"fAbsCoord\":false,\"fEditable\":true,\"fFixedAspectRatio\":false,\"fPrimitives\":{\"_typename\":\"TList\",\"name\":\"TList\",\"arr\":[{\"_typename\":\"TFrame\",\"fUniqueID\":0,\"fBits\":8,\"fLineColor\":1,\"fLineStyle\":1,\"fLineWidth\":1,\"fFillColor\":0,\"fFillStyle\":1001,\"fX1\":50,\"fY1\":0,\"fX2\":200,\"fY2\":0.0290885210371716,\"fBorderSize\":1,\"fBorderMode\":0},{\"_typename\":\"TH1D\",\"fUniqueID\":0,\"fBits\":520,\"fName\":\"frame_7fd5aab07170\",\"fTitle\":\"\",\"fLineColor\":602,\"fLineStyle\":1,\"fLineWidth\":1,\"fFillColor\":0,\"fFillStyle\":1001,\"fMarkerColor\":1,\"fMarkerStyle\":1,\"fMarkerSize\":1,\"fNcells\":102,\"fXaxis\":{\"_typename\":\"TAxis\",\"fUniqueID\":0,\"fBits\":0,\"fName\":\"xaxis\",\"fTitle\":\"m_{dijet}\",\"fNdivisions\":510,\"fAxisColor\":1,\"fLabelColor\":1,\"fLabelFont\":42,\"fLabelOffset\":0.005,\"fLabelSize\":0.035,\"fTickLength\":0.03,\"fTitleOffset\":1,\"fTitleSize\":0.035,\"fTitleColor\":1,\"fTitleFont\":42,\"fNbins\":100,\"fXmin\":50,\"fXmax\":200,\"fXbins\":[],\"fFirst\":0,\"fLast\":0,\"fBits2\":0,\"fTimeDisplay\":false,\"fTimeFormat\":\"\",\"fLabels\":null,\"fModLabs\":null},\"fYaxis\":{\"_typename\":\"TAxis\",\"fUniqueID\":0,\"fBits\":0,\"fName\":\"yaxis\",\"fTitle\":\"Events \\/ ( 2 )\",\"fNdivisions\":510,\"fAxisColor\":1,\"fLabelColor\":1,\"fLabelFont\":42,\"fLabelOffset\":0.005,\"fLabelSize\":0.035,\"fTickLength\":0.03,\"fTitleOffset\":0,\"fTitleSize\":0.035,\"fTitleColor\":1,\"fTitleFont\":42,\"fNbins\":1,\"fXmin\":0,\"fXmax\":1,\"fXbins\":[],\"fFirst\":0,\"fLast\":0,\"fBits2\":0,\"fTimeDisplay\":false,\"fTimeFormat\":\"\",\"fLabels\":null,\"fModLabs\":null},\"fZaxis\":{\"_typename\":\"TAxis\",\"fUniqueID\":0,\"fBits\":0,\"fName\":\"zaxis\",\"fTitle\":\"\",\"fNdivisions\":510,\"fAxisColor\":1,\"fLabelColor\":1,\"fLabelFont\":42,\"fLabelOffset\":0.005,\"fLabelSize\":0.035,\"fTickLength\":0.03,\"fTitleOffset\":1,\"fTitleSize\":0.035,\"fTitleColor\":1,\"fTitleFont\":42,\"fNbins\":1,\"fXmin\":0,\"fXmax\":1,\"fXbins\":[],\"fFirst\":0,\"fLast\":0,\"fBits2\":0,\"fTimeDisplay\":false,\"fTimeFormat\":\"\",\"fLabels\":null,\"fModLabs\":null},\"fBarOffset\":0,\"fBarWidth\":1000,\"fEntries\":1,\"fTsumw\":0,\"fTsumw2\":0,\"fTsumwx\":0,\"fTsumwx2\":0,\"fMaximum\":0.0290885210371716,\"fMinimum\":-1111,\"fNormFactor\":0,\"fContour\":[],\"fSumw2\":[],\"fOption\":\"\",\"fFunctions\":{\"_typename\":\"TList\",\"name\":\"TList\",\"arr\":[],\"opt\":[]},\"fBufferSize\":0,\"fBuffer\":[],\"fBinStatErrOpt\":0,\"fStatOverflows\":2,\"fArray\":[0,0.0290885210371716,0,0,0,0,0,0,0,0,0,0,0,0,0,0,0,0,0,0,0,0,0,0,0,0,0,0,0,0,0,0,0,0,0,0,0,0,0,0,0,0,0,0,0,0,0,0,0,0,0,0,0,0,0,0,0,0,0,0,0,0,0,0,0,0,0,0,0,0,0,0,0,0,0,0,0,0,0,0,0,0,0,0,0,0,0,0,0,0,0,0,0,0,0,0,0,0,0,0,0,0]},{\"_typename\":\"RooHist\",\"fUniqueID\":0,\"fBits\":1032,\"fName\":\"h_h\",\"fTitle\":\"Histogram of h_plot__x\",\"fLineColor\":1,\"fLineStyle\":1,\"fLineWidth\":1,\"fFillColor\":0,\"fFillStyle\":1000,\"fMarkerColor\":1,\"fMarkerStyle\":8,\"fMarkerSize\":1,\"fNpoints\":75,\"fX\":[51,53,55,57,59,61,63,65,67,69,71,73,75,77,79,81,83,85,87,89,91,93,95,97,99,101,103,105,107,109,111,113,115,117,119,121,123,125,127,129,131,133,135,137,139,141,143,145,147,149,151,153,155,157,159,161,163,165,167,169,171,173,175,177,179,181,183,185,187,189,191,193,195,197,199],\"fY\":[0.00155339518096298,0.00175341428257525,0.00185991800390184,0.00211968319490552,0.00235606939531863,0.00272233807481825,0.00304704438894987,0.00335356732830405,0.00382893742062151,0.00426794029772282,0.00498489197343588,0.00546805514022708,0.00618760427460074,0.00675389217212796,0.00750980852171779,0.00850730668753386,0.00959052704274654,0.0109049379825592,0.0116089014336467,0.0132636055350304,0.0145364543423057,0.0160171147435904,0.0177341625094414,0.0192096289247274,0.0199395678937435,0.0218046810477972,0.0228879023343325,0.0239815134555101,0.0250231698155403,0.0265246126800776,0.0265376009047031,0.027436388656497,0.0273844357579947,0.0272077955305576,0.0265869572758675,0.0253894403576851,0.0238490328192711,0.0221475716680288,0.020256482064724,0.0185835938900709,0.01638338342309,0.0137753421440721,0.0117959324270487,0.00999576039612293,0.00839301012456417,0.00660582631826401,0.00563430460169911,0.00461862329393625,0.00370684778317809,0.00303925154730678,0.00251192832365632,0.00210149958729744,0.00180536729749292,0.00156898109707981,0.00141831731889397,0.00134558312129229,0.00112218514550477,0.00109361100476235,8.85798945091665e-4,9.89704974927008e-4,8.8839657837525e-4,7.74099957197905e-4,7.89685873314738e-4,7.19549308996648e-4,7.68904632423073e-4,7.55916407797486e-4,6.10447954386473e-4,6.31229137070477e-4,6.85779843479395e-4,5.55897306185216e-4,4.98748966492712e-4,5.81873813644052e-4,5.53299614693969e-4,5.22127840667963e-4,5.03944291267544e-4],\"fFunctions\":{\"_typename\":\"TList\",\"name\":\"TList\",\"arr\":[],\"opt\":[]},\"fHistogram\":{\"_typename\":\"TH1F\",\"fUniqueID\":0,\"fBits\":520,\"fName\":\"h_h\",\"fTitle\":\"Histogram of h_plot__x\",\"fLineColor\":602,\"fLineStyle\":1,\"fLineWidth\":1,\"fFillColor\":0,\"fFillStyle\":1001,\"fMarkerColor\":1,\"fMarkerStyle\":1,\"fMarkerSize\":1,\"fNcells\":102,\"fXaxis\":{\"_typename\":\"TAxis\",\"fUniqueID\":0,\"fBits\":0,\"fName\":\"xaxis\",\"fTitle\":\"\",\"fNdivisions\":510,\"fAxisColor\":1,\"fLabelColor\":1,\"fLabelFont\":42,\"fLabelOffset\":0.005,\"fLabelSize\":0.035,\"fTickLength\":0.03,\"fTitleOffset\":1,\"fTitleSize\":0.035,\"fTitleColor\":1,\"fTitleFont\":42,\"fNbins\":100,\"fXmin\":35,\"fXmax\":215,\"fXbins\":[],\"fFirst\":0,\"fLast\":0,\"fBits2\":0,\"fTimeDisplay\":false,\"fTimeFormat\":\"\",\"fLabels\":null,\"fModLabs\":null},\"fYaxis\":{\"_typename\":\"TAxis\",\"fUniqueID\":0,\"fBits\":0,\"fName\":\"yaxis\",\"fTitle\":\"\",\"fNdivisions\":510,\"fAxisColor\":1,\"fLabelColor\":1,\"fLabelFont\":42,\"fLabelOffset\":0.005,\"fLabelSize\":0.035,\"fTickLength\":0.03,\"fTitleOffset\":0,\"fTitleSize\":0.035,\"fTitleColor\":1,\"fTitleFont\":42,\"fNbins\":1,\"fXmin\":4.16479374368503e-4,\"fXmax\":0.0304274132195674,\"fXbins\":[],\"fFirst\":0,\"fLast\":0,\"fBits2\":0,\"fTimeDisplay\":false,\"fTimeFormat\":\"\",\"fLabels\":null,\"fModLabs\":null},\"fZaxis\":{\"_typename\":\"TAxis\",\"fUniqueID\":0,\"fBits\":0,\"fName\":\"zaxis\",\"fTitle\":\"\",\"fNdivisions\":510,\"fAxisColor\":1,\"fLabelColor\":1,\"fLabelFont\":42,\"fLabelOffset\":0.005,\"fLabelSize\":0.035,\"fTickLength\":0.03,\"fTitleOffset\":1,\"fTitleSize\":0.035,\"fTitleColor\":1,\"fTitleFont\":42,\"fNbins\":1,\"fXmin\":0,\"fXmax\":1,\"fXbins\":[],\"fFirst\":0,\"fLast\":0,\"fBits2\":0,\"fTimeDisplay\":false,\"fTimeFormat\":\"\",\"fLabels\":null,\"fModLabs\":null},\"fBarOffset\":0,\"fBarWidth\":1000,\"fEntries\":0,\"fTsumw\":0,\"fTsumw2\":0,\"fTsumwx\":0,\"fTsumwx2\":0,\"fMaximum\":0.0304274132195674,\"fMinimum\":4.16479374368503e-4,\"fNormFactor\":0,\"fContour\":[],\"fSumw2\":[],\"fOption\":\"\",\"fFunctions\":{\"_typename\":\"TList\",\"name\":\"TList\",\"arr\":[],\"opt\":[]},\"fBufferSize\":0,\"fBuffer\":[],\"fBinStatErrOpt\":0,\"fStatOverflows\":2,\"fArray\":[0,0,0,0,0,0,0,0,0,0,0,0,0,0,0,0,0,0,0,0,0,0,0,0,0,0,0,0,0,0,0,0,0,0,0,0,0,0,0,0,0,0,0,0,0,0,0,0,0,0,0,0,0,0,0,0,0,0,0,0,0,0,0,0,0,0,0,0,0,0,0,0,0,0,0,0,0,0,0,0,0,0,0,0,0,0,0,0,0,0,0,0,0,0,0,0,0,0,0,0,0,0]},\"fMinimum\":-1111,\"fMaximum\":-1111,\"fEXlow\":[1,1,1,1,1,1,1,1,1,1,1,1,1,1,1,1,1,1,1,1,1,1,1,1,1,1,1,1,1,1,1,1,1,1,1,1,1,1,1,1,1,1,1,1,1,1,1,1,1,1,1,1,1,1,1,1,1,1,1,1,1,1,1,1,1,1,1,1,1,1,1,1,1,1,1],\"fEXhigh\":[1,1,1,1,1,1,1,1,1,1,1,1,1,1,1,1,1,1,1,1,1,1,1,1,1,1,1,1,1,1,1,1,1,1,1,1,1,1,1,1,1,1,1,1,1,1,1,1,1,1,1,1,1,1,1,1,1,1,1,1,1,1,1,1,1,1,1,1,1,1,1,1,1,1,1],\"fEYlow\":[6.3523054062027e-5,6.74889489061205e-5,6.95083995852386e-5,7.42037506404929e-5,7.82319979015769e-5,8.40933046106278e-5,8.89671716174281e-5,9.3334864017359e-5,9.97308498119454e-5,1.0529301452526e-4,1.13793712204896e-4,1.1918094591977e-4,1.26780265380095e-4,1.32454723968594e-4,1.39670543711202e-4,1.48657364856402e-4,1.57838019945345e-4,1.68306928737697e-4,1.73654465364008e-4,1.85618467687757e-4,1.94320952622731e-4,2.03977628446436e-4,2.14632621173053e-4,2.23382870359654e-4,2.27587424409792e-4,2.37993590128617e-4,2.43833503351213e-4,2.4959085906858e-4,2.54953840342551e-4,2.62491301386426e-4,2.62555560316955e-4,2.66964712237881e-4,2.66711832847761e-4,2.65850243677875e-4,2.62799600955996e-4,2.56812965190776e-4,2.48900501491102e-4,2.3985757694372e-4,2.29388897126398e-4,2.19712742892257e-4,2.06296658458871e-4,1.89165351397381e-4,1.7504774839493e-4,1.61138126383432e-4,1.47655373649979e-4,1.30994770406127e-4,1.20979156997843e-4,1.09533422080693e-4,9.81279586865621e-5,8.88533300204243e-5,8.07781708966072e-5,7.38847892287809e-5,6.8481486722296e-5,6.38409362176035e-5,6.06983798740565e-5,5.91215290769361e-5,5.39911591248964e-5,5.32993393398662e-5,4.79687020576334e-5,5.07041218795879e-5,4.80389859078661e-5,4.48424063663119e-5,4.52915902623695e-5,4.32335265681189e-5,4.46916751621277e-5,4.43126040646043e-5,3.98212335457585e-5,4.04933693436723e-5,4.22068306084248e-5,3.8000355944394e-5,3.59941060832643e-5,3.88780780327701e-5,3.79114661011479e-5,3.68280569999648e-5,3.61810897107534e-5],\"fEYhigh\":[6.3523054062027e-5,6.74889489061205e-5,6.95083995852386e-5,7.42037506404929e-5,7.82319979015769e-5,8.40933046106278e-5,8.89671716174281e-5,9.3334864017359e-5,9.97308498119454e-5,1.0529301452526e-4,1.13793712204896e-4,1.1918094591977e-4,1.26780265380095e-4,1.32454723968594e-4,1.39670543711202e-4,1.48657364856402e-4,1.57838019945345e-4,1.68306928737697e-4,1.73654465364008e-4,1.85618467687757e-4,1.94320952622731e-4,2.03977628446436e-4,2.14632621173053e-4,2.23382870359654e-4,2.27587424409792e-4,2.37993590128617e-4,2.43833503351213e-4,2.4959085906858e-4,2.54953840342551e-4,2.62491301386426e-4,2.62555560316955e-4,2.66964712237881e-4,2.66711832847761e-4,2.65850243677875e-4,2.62799600955996e-4,2.56812965190776e-4,2.48900501491102e-4,2.3985757694372e-4,2.29388897126398e-4,2.19712742892257e-4,2.06296658458871e-4,1.89165351397381e-4,1.7504774839493e-4,1.61138126383432e-4,1.47655373649979e-4,1.30994770406127e-4,1.20979156997843e-4,1.09533422080693e-4,9.81279586865621e-5,8.88533300204243e-5,8.07781708966072e-5,7.38847892287809e-5,6.8481486722296e-5,6.38409362176035e-5,6.06983798740565e-5,5.91215290769361e-5,5.39911591248964e-5,5.32993393398662e-5,4.79687020576334e-5,5.07041218795879e-5,4.80389859078661e-5,4.48424063663119e-5,4.52915902623695e-5,4.32335265681189e-5,4.46916751621277e-5,4.43126040646043e-5,3.98212335457585e-5,4.04933693436723e-5,4.22068306084248e-5,3.8000355944394e-5,3.59941060832643e-5,3.88780780327701e-5,3.79114661011479e-5,3.68280569999648e-5,3.61810897107534e-5],\"_yAxisLabel\":\"Events \\/ ( 2 )\",\"_ymin\":0,\"_ymax\":0.0277033533687349,\"_normValue\":0,\"_nominalBinWidth\":2,\"_nSigma\":1,\"_entries\":0.673311105405446,\"_rawEntries\":-1},{\"_typename\":\"RooCurve\",\"fUniqueID\":0,\"fBits\":525320,\"fName\":\"func_Norm[x]\",\"fTitle\":\"Projection of func\",\"fLineColor\":600,\"fLineStyle\":1,\"fLineWidth\":3,\"fFillColor\":0,\"fFillStyle\":1000,\"fMarkerColor\":1,\"fMarkerStyle\":1,\"fMarkerSize\":1,\"fNpoints\":112,\"fX\":[48.4985,48.5,50,51.5,53,54.5,56,57.5,59,60.5,62,63.5,65,66.5,68,69.5,71,72.5,74,75.5,77,78.5,80,81.5,83,84.5,86,87.5,89,90.5,92,93.5,95,96.5,98,99.5,101,102.5,104,105.5,107,108.5,110,111.5,113,114.5,116,117.5,118.25,119,119.75,120.5,121.25,122,122.75,123.5,125,126.5,128,129.5,131,132.5,133.25,134,134.75,135.5,137,138.5,140,141.5,143,144.5,146,147.5,149,150.5,152,153.5,155,156.5,158,159.5,161,162.5,164,165.5,167,168.5,170,171.5,173,174.5,176,177.5,179,180.5,182,183.5,185,186.5,188,189.5,191,192.5,194,195.5,197,198.5,200,200,201.5,201.5015],\"fY\":[0,0.00124017040991679,0.00124017040991679,0.00138336707387176,0.00154079957121189,0.00171359232317432,0.00190292429765292,0.00211002771499401,0.00233618619181584,0.00258273227828177,0.00285104434603092,0.00314254278647354,0.003458685482434,0.00380096252020932,0.00417089011403135,0.00457000372069398,0.00499985032873772,0.00546197991406497,0.00595793606216985,0.00648924576626782,0.00705740842045245,0.00766388403751877,0.00831008073219046,0.00899734152206784,0.00972693051055723,0.0105000185282142,0.0113176683211829,0.0121808193875758,0.0130902725745421,0.014046274491279,0.015040144286335,0.0160644111302816,0.0171130533667201,0.0181786915615653,0.0192524853485656,0.0203240493894211,0.0213813967486367,0.0224109192583584,0.0233974156238966,0.0243241789769682,0.0251731561667292,0.025925191097164,0.0265603636455579,0.027058433871245,0.0273993980671171,0.027564158439248,0.0275353015750999,0.0272979722083707,0.0270974191760569,0.0268408180775054,0.0265274580332011,0.0261569690897798,0.0257293509767556,0.0252450000338361,0.0247047336639413,0.0241098116226197,0.0227633510785275,0.0212250827266213,0.0195221136235697,0.0176888820509978,0.0157663308682798,0.0138005161198079,0.0128530835221286,0.0119794220147165,0.0111732912541081,0.0104290102611165,0.00910578108680366,0.0079736688612458,0.00700270879677658,0.0061679496259033,0.00544856893218263,0.0048271518581634,0.00428910179576591,0.00382215791423742,0.00341599934624153,0.0030619198053946,0.00275255956132375,0.00248168421787977,0.00224400175755227,0.00203501093357697,0.00185087539207397,0.00168831895411301,0.00154453833277472,0.00141713024344115,0.00130403041878523,0.00120346248877629,0.00111389505084258,0.0010340055524025,9.62649850316157e-4,8.98836509858511e-4,8.41705067960559e-4,7.90507618453141e-4,7.44593186317308e-4,7.03394447887159e-4,6.66416428117273e-4,6.33226867295115e-4,6.03448000284992e-4,5.76749533433446e-4,5.52842639193563e-4,5.31474817599728e-4,5.12425497977285e-4,4.95502274548487e-4,4.8053768659126e-4,4.67386468091414e-4,4.55923203873015e-4,4.46040339385056e-4,4.37646499988527e-4,4.30665082995962e-4,4.25033092090829e-4,4.25033092090829e-4,4.25033092090829e-4,0],\"fFunctions\":{\"_typename\":\"TList\",\"name\":\"TList\",\"arr\":[],\"opt\":[]},\"fHistogram\":{\"_typename\":\"TH1F\",\"fUniqueID\":0,\"fBits\":520,\"fName\":\"func_Norm[x]\",\"fTitle\":\"Projection of func\",\"fLineColor\":602,\"fLineStyle\":1,\"fLineWidth\":1,\"fFillColor\":0,\"fFillStyle\":1001,\"fMarkerColor\":1,\"fMarkerStyle\":1,\"fMarkerSize\":1,\"fNcells\":114,\"fXaxis\":{\"_typename\":\"TAxis\",\"fUniqueID\":0,\"fBits\":0,\"fName\":\"xaxis\",\"fTitle\":\"\",\"fNdivisions\":510,\"fAxisColor\":1,\"fLabelColor\":1,\"fLabelFont\":42,\"fLabelOffset\":0.005,\"fLabelSize\":0.035,\"fTickLength\":0.03,\"fTitleOffset\":1,\"fTitleSize\":0.035,\"fTitleColor\":1,\"fTitleFont\":42,\"fNbins\":112,\"fXmin\":33.1982,\"fXmax\":216.8018,\"fXbins\":[],\"fFirst\":0,\"fLast\":0,\"fBits2\":0,\"fTimeDisplay\":false,\"fTimeFormat\":\"\",\"fLabels\":null,\"fModLabs\":null},\"fYaxis\":{\"_typename\":\"TAxis\",\"fUniqueID\":0,\"fBits\":0,\"fName\":\"yaxis\",\"fTitle\":\"\",\"fNdivisions\":510,\"fAxisColor\":1,\"fLabelColor\":1,\"fLabelFont\":42,\"fLabelOffset\":0.005,\"fLabelSize\":0.035,\"fTickLength\":0.03,\"fTitleOffset\":0,\"fTitleSize\":0.035,\"fTitleColor\":1,\"fTitleFont\":42,\"fNbins\":1,\"fXmin\":0,\"fXmax\":0.0303205742831728,\"fXbins\":[],\"fFirst\":0,\"fLast\":0,\"fBits2\":0,\"fTimeDisplay\":false,\"fTimeFormat\":\"\",\"fLabels\":null,\"fModLabs\":null},\"fZaxis\":{\"_typename\":\"TAxis\",\"fUniqueID\":0,\"fBits\":0,\"fName\":\"zaxis\",\"fTitle\":\"\",\"fNdivisions\":510,\"fAxisColor\":1,\"fLabelColor\":1,\"fLabelFont\":42,\"fLabelOffset\":0.005,\"fLabelSize\":0.035,\"fTickLength\":0.03,\"fTitleOffset\":1,\"fTitleSize\":0.035,\"fTitleColor\":1,\"fTitleFont\":42,\"fNbins\":1,\"fXmin\":0,\"fXmax\":1,\"fXbins\":[],\"fFirst\":0,\"fLast\":0,\"fBits2\":0,\"fTimeDisplay\":false,\"fTimeFormat\":\"\",\"fLabels\":null,\"fModLabs\":null},\"fBarOffset\":0,\"fBarWidth\":1000,\"fEntries\":0,\"fTsumw\":0,\"fTsumw2\":0,\"fTsumwx\":0,\"fTsumwx2\":0,\"fMaximum\":0.0303205742831728,\"fMinimum\":0,\"fNormFactor\":0,\"fContour\":[],\"fSumw2\":[],\"fOption\":\"\",\"fFunctions\":{\"_typename\":\"TList\",\"name\":\"TList\",\"arr\":[],\"opt\":[]},\"fBufferSize\":0,\"fBuffer\":[],\"fBinStatErrOpt\":0,\"fStatOverflows\":2,\"fArray\":[0,0,0,0,0,0,0,0,0,0,0,0,0,0,0,0,0,0,0,0,0,0,0,0,0,0,0,0,0,0,0,0,0,0,0,0,0,0,0,0,0,0,0,0,0,0,0,0,0,0,0,0,0,0,0,0,0,0,0,0,0,0,0,0,0,0,0,0,0,0,0,0,0,0,0,0,0,0,0,0,0,0,0,0,0,0,0,0,0,0,0,0,0,0,0,0,0,0,0,0,0,0,0,0,0,0,0,0,0,0,0,0,0,0]},\"fMinimum\":-1111,\"fMaximum\":-1111,\"_yAxisLabel\":\"Projection of func\",\"_ymin\":0,\"_ymax\":0.027564158439248,\"_normValue\":0},{\"$ref\":3},{\"_typename\":\"TLine\",\"fUniqueID\":0,\"fBits\":8,\"fLineColor\":1,\"fLineStyle\":2,\"fLineWidth\":2,\"fX1\":90,\"fY1\":0,\"fX2\":90,\"fY2\":0.029},{\"_typename\":\"TLine\",\"fUniqueID\":0,\"fBits\":8,\"fLineColor\":1,\"fLineStyle\":2,\"fLineWidth\":2,\"fX1\":150,\"fY1\":0,\"fX2\":150,\"fY2\":0.029},{\"_typename\":\"TStyle\",\"fUniqueID\":0,\"fBits\":0,\"fName\":\"Modern\",\"fTitle\":\"Modern Style\",\"fLineColor\":1,\"fLineStyle\":1,\"fLineWidth\":1,\"fFillColor\":19,\"fFillStyle\":1001,\"fMarkerColor\":1,\"fMarkerStyle\":1,\"fMarkerSize\":1,\"fTextAngle\":0,\"fTextSize\":0.05,\"fTextAlign\":11,\"fTextColor\":1,\"fTextFont\":62,\"fXaxis\":{\"_typename\":\"TAttAxis\",\"fNdivisions\":510,\"fAxisColor\":1,\"fLabelColor\":1,\"fLabelFont\":42,\"fLabelOffset\":0.005,\"fLabelSize\":0.035,\"fTickLength\":0.03,\"fTitleOffset\":1,\"fTitleSize\":0.035,\"fTitleColor\":1,\"fTitleFont\":42},\"fYaxis\":{\"_typename\":\"TAttAxis\",\"fNdivisions\":510,\"fAxisColor\":1,\"fLabelColor\":1,\"fLabelFont\":42,\"fLabelOffset\":0.005,\"fLabelSize\":0.035,\"fTickLength\":0.03,\"fTitleOffset\":0,\"fTitleSize\":0.035,\"fTitleColor\":1,\"fTitleFont\":42},\"fZaxis\":{\"_typename\":\"TAttAxis\",\"fNdivisions\":510,\"fAxisColor\":1,\"fLabelColor\":1,\"fLabelFont\":42,\"fLabelOffset\":0.005,\"fLabelSize\":0.035,\"fTickLength\":0.03,\"fTitleOffset\":1,\"fTitleSize\":0.035,\"fTitleColor\":1,\"fTitleFont\":42},\"fBarWidth\":1,\"fBarOffset\":0,\"fColorModelPS\":0,\"fDrawBorder\":0,\"fOptLogx\":0,\"fOptLogy\":0,\"fOptLogz\":0,\"fOptDate\":0,\"fOptStat\":1111,\"fOptTitle\":1,\"fOptFile\":0,\"fOptFit\":0,\"fShowEventStatus\":0,\"fShowEditor\":0,\"fShowToolBar\":0,\"fNumberContours\":20,\"fAttDate\":{\"_typename\":\"TAttText\",\"fTextAngle\":0,\"fTextSize\":0.025,\"fTextAlign\":11,\"fTextColor\":1,\"fTextFont\":62},\"fDateX\":0.01,\"fDateY\":0.01,\"fEndErrorSize\":2,\"fErrorX\":0.5,\"fFuncColor\":2,\"fFuncStyle\":1,\"fFuncWidth\":2,\"fGridColor\":0,\"fGridStyle\":3,\"fGridWidth\":1,\"fLegendBorderSize\":1,\"fLegendFillColor\":0,\"fLegendFont\":42,\"fLegendTextSize\":0,\"fHatchesLineWidth\":1,\"fHatchesSpacing\":1,\"fFrameFillColor\":0,\"fFrameLineColor\":1,\"fFrameFillStyle\":1001,\"fFrameLineStyle\":1,\"fFrameLineWidth\":1,\"fFrameBorderSize\":1,\"fFrameBorderMode\":0,\"fHistFillColor\":0,\"fHistLineColor\":602,\"fHistFillStyle\":1001,\"fHistLineStyle\":1,\"fHistLineWidth\":1,\"fHistMinimumZero\":false,\"fHistTopMargin\":0.05,\"fCanvasPreferGL\":false,\"fCanvasColor\":0,\"fCanvasBorderSize\":2,\"fCanvasBorderMode\":0,\"fCanvasDefH\":500,\"fCanvasDefW\":700,\"fCanvasDefX\":10,\"fCanvasDefY\":10,\"fPadColor\":0,\"fPadBorderSize\":2,\"fPadBorderMode\":0,\"fPadBottomMargin\":0.1,\"fPadTopMargin\":0.1,\"fPadLeftMargin\":0.1,\"fPadRightMargin\":0.1,\"fPadGridX\":false,\"fPadGridY\":false,\"fPadTickX\":0,\"fPadTickY\":0,\"fPaperSizeX\":20,\"fPaperSizeY\":26,\"fScreenFactor\":1,\"fStatColor\":0,\"fStatTextColor\":1,\"fStatBorderSize\":1,\"fStatFont\":42,\"fStatFontSize\":0,\"fStatStyle\":1001,\"fStatFormat\":\"6.4g\",\"fStatX\":0.98,\"fStatY\":0.935,\"fStatW\":0.2,\"fStatH\":0.16,\"fStripDecimals\":true,\"fTitleAlign\":23,\"fTitleColor\":0,\"fTitleTextColor\":1,\"fTitleBorderSize\":0,\"fTitleFont\":42,\"fTitleFontSize\":0.05,\"fTitleStyle\":0,\"fTitleX\":0.5,\"fTitleY\":0.995,\"fTitleW\":0,\"fTitleH\":0,\"fLegoInnerR\":0.5,\"fLineStyle\":[\"\",\"  \",\" 12 12\",\" 4 8\",\" 12 16 4 16\",\" 20 12 4 12\",\" 20 12 4 12 4 12 4 12\",\" 20 20\",\" 20 12 4 12 4 12\",\" 80 20\",\" 80 40 4 40\",\"  \",\"  \",\"  \",\"  \",\"  \",\"  \",\"  \",\"  \",\"  \",\"  \",\"  \",\"  \",\"  \",\"  \",\"  \",\"  \",\"  \",\"  \",\"  \"],\"fHeaderPS\":\"\",\"fTitlePS\":\"\",\"fFitFormat\":\"5.4g\",\"fPaintTextFormat\":\"g\",\"fLineScalePS\":3,\"fJoinLinePS\":0,\"fCapLinePS\":0,\"fTimeOffset\":788918400,\"fImageScaling\":1}],\"opt\":[\"\",\"FUNC\",\"p\",\"l\",\"AXISSAME\",\"\",\"\",\"\"]},\"fExecs\":null,\"fName\":\"c\",\"fTitle\":\"c\",\"fNumPaletteColor\":0,\"fNextPaletteColor\":0,\"fDISPLAY\":\"$DISPLAY\",\"fDoubleBuffer\":0,\"fRetained\":true,\"fXsizeUser\":0,\"fYsizeUser\":0,\"fXsizeReal\":20,\"fYsizeReal\":15,\"fWindowTopX\":0,\"fWindowTopY\":0,\"fWindowWidth\":0,\"fWindowHeight\":0,\"fCw\":796,\"fCh\":572,\"fCatt\":{\"_typename\":\"TAttCanvas\",\"fXBetween\":2,\"fYBetween\":2,\"fTitleFromTop\":1.2,\"fXdate\":0.2,\"fYdate\":0.3,\"fAdate\":1},\"kMoveOpaque\":true,\"kResizeOpaque\":true,\"fHighLightColor\":2,\"fBatch\":true,\"kShowEventStatus\":false,\"kAutoExec\":true,\"kMenuBar\":true});\n",
       "       Core.key_handling = false;\n",
       "       Core.draw(\"root_plot_1616079620958\", obj, \"\");\n",
       "     }\n",
       " );\n",
       "</script>\n"
      ],
      "text/plain": [
       "<IPython.core.display.HTML object>"
      ]
     },
     "metadata": {},
     "output_type": "display_data"
    }
   ],
   "source": [
    "c.Draw()\n",
    "m.Print()\n",
    "#chi2 = ROOT.RooChi2Var(\"chi2\",\"chi2\",func,h)\n",
    "chi2 = xframe1.chiSquare(5)\n",
    "print(\"Chi-square: \",chi2)\n",
    "c.SaveAs(\"fit.pdf\")"
   ]
  },
  {
   "cell_type": "markdown",
   "metadata": {},
   "source": [
    "# Automatically adjust parameters in the Bukin function (test)"
   ]
  },
  {
   "cell_type": "code",
   "execution_count": null,
   "metadata": {},
   "outputs": [],
   "source": [
    "#massFit.Print()\n",
    "#massFit.status()\n",
    "count = 0\n",
    "bukinDict = {\"m\": 0, \"s\": 0, \"xi\": 0, \"rho1\": 0, \"rho2\": 0}\n",
    "while (massFit.status() != 0 or count < 100):\n",
    "    bukinDict[\"m\"] = m.getVal()\n",
    "    bukinDict[\"s\"] = s.getVal()\n",
    "    bukinDict[\"xi\"] = xi.getVal()\n",
    "    bukinDict[\"rho1\"] = rho1.getVal()\n",
    "    bukinDict[\"rho2\"] = rho2.getVal()\n",
    "    func.fitTo(h)\n",
    "    count += 1\n",
    "    if count == 100:\n",
    "        break\n",
    "massFit.Print()"
   ]
  },
  {
   "cell_type": "code",
   "execution_count": 66,
   "metadata": {},
   "outputs": [
    {
     "data": {
      "text/plain": [
       "115.26009951549382"
      ]
     },
     "execution_count": 66,
     "metadata": {},
     "output_type": "execute_result"
    }
   ],
   "source": [
    "m.getVal()"
   ]
  },
  {
   "cell_type": "code",
   "execution_count": 20,
   "metadata": {},
   "outputs": [
    {
     "name": "stdout",
     "output_type": "stream",
     "text": [
      "{'m': 115.25280025975833, 's': 17.77181873371447, 'xi': -0.19519076790363332, 'rho1': -0.19168266726323968, 'rho2': 0.2185122938295418}\n"
     ]
    }
   ],
   "source": [
    "print(bukinDict)"
   ]
  },
  {
   "cell_type": "code",
   "execution_count": null,
   "metadata": {},
   "outputs": [],
   "source": []
  }
 ],
 "metadata": {
  "kernelspec": {
   "display_name": "Python 3",
   "language": "python",
   "name": "python3"
  },
  "language_info": {
   "codemirror_mode": {
    "name": "ipython",
    "version": 3
   },
   "file_extension": ".py",
   "mimetype": "text/x-python",
   "name": "python",
   "nbconvert_exporter": "python",
   "pygments_lexer": "ipython3",
   "version": "3.9.2"
  },
  "latex_envs": {
   "LaTeX_envs_menu_present": true,
   "autoclose": false,
   "autocomplete": true,
   "bibliofile": "biblio.bib",
   "cite_by": "apalike",
   "current_citInitial": 1,
   "eqLabelWithNumbers": true,
   "eqNumInitial": 1,
   "hotkeys": {
    "equation": "Ctrl-E",
    "itemize": "Ctrl-I"
   },
   "labels_anchors": false,
   "latex_user_defs": false,
   "report_style_numbering": false,
   "user_envs_cfg": false
  },
  "varInspector": {
   "cols": {
    "lenName": 16,
    "lenType": 16,
    "lenVar": 40
   },
   "kernels_config": {
    "python": {
     "delete_cmd_postfix": "",
     "delete_cmd_prefix": "del ",
     "library": "var_list.py",
     "varRefreshCmd": "print(var_dic_list())"
    },
    "r": {
     "delete_cmd_postfix": ") ",
     "delete_cmd_prefix": "rm(",
     "library": "var_list.r",
     "varRefreshCmd": "cat(var_dic_list()) "
    }
   },
   "types_to_exclude": [
    "module",
    "function",
    "builtin_function_or_method",
    "instance",
    "_Feature"
   ],
   "window_display": false
  }
 },
 "nbformat": 4,
 "nbformat_minor": 4
}
